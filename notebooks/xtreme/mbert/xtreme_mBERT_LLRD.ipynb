{
  "metadata": {
    "kernelspec": {
      "name": "python3",
      "display_name": "Python 3",
      "language": "python"
    },
    "language_info": {
      "name": "python",
      "version": "3.11.11",
      "mimetype": "text/x-python",
      "codemirror_mode": {
        "name": "ipython",
        "version": 3
      },
      "pygments_lexer": "ipython3",
      "nbconvert_exporter": "python",
      "file_extension": ".py"
    },
    "colab": {
      "provenance": []
    },
    "widgets": {
      "application/vnd.jupyter.widget-state+json": {}
    },
    "kaggle": {
      "accelerator": "gpu",
      "dataSources": [],
      "dockerImageVersionId": 31041,
      "isInternetEnabled": true,
      "language": "python",
      "sourceType": "notebook",
      "isGpuEnabled": true
    }
  },
  "nbformat_minor": 0,
  "nbformat": 4,
  "cells": [
    {
      "cell_type": "code",
      "source": [
        "import tensorflow as tf\n",
        "\n",
        "device_name = tf.test.gpu_device_name()\n",
        "\n",
        "if \"GPU\" not in device_name:\n",
        "    print(\"GPU device not found\")\n",
        "else:\n",
        "    print(f'Found GPU at: {device_name}')\n",
        "\n",
        "# Alternative way to check\n",
        "print(\"GPU\", \"available (YESS!!!!)\" if tf.config.list_physical_devices(\"GPU\") else \"not available :(\")\n"
      ],
      "metadata": {
        "colab": {
          "base_uri": "https://localhost:8080/"
        },
        "id": "gno09MFugpke",
        "outputId": "79e7f578-6cd9-41b1-c7f7-14bfe1fa99dc",
        "execution": {
          "iopub.status.busy": "2025-05-18T09:23:17.598919Z",
          "iopub.execute_input": "2025-05-18T09:23:17.599172Z",
          "iopub.status.idle": "2025-05-18T09:23:21.899424Z",
          "shell.execute_reply.started": "2025-05-18T09:23:17.599153Z",
          "shell.execute_reply": "2025-05-18T09:23:21.898603Z"
        },
        "trusted": true
      },
      "outputs": [
        {
          "name": "stderr",
          "text": "2025-05-18 09:23:17.925754: E external/local_xla/xla/stream_executor/cuda/cuda_fft.cc:477] Unable to register cuFFT factory: Attempting to register factory for plugin cuFFT when one has already been registered\nWARNING: All log messages before absl::InitializeLog() is called are written to STDERR\nE0000 00:00:1747560197.949281     166 cuda_dnn.cc:8310] Unable to register cuDNN factory: Attempting to register factory for plugin cuDNN when one has already been registered\nE0000 00:00:1747560197.959289     166 cuda_blas.cc:1418] Unable to register cuBLAS factory: Attempting to register factory for plugin cuBLAS when one has already been registered\n",
          "output_type": "stream"
        },
        {
          "name": "stdout",
          "text": "Found GPU at: /device:GPU:0\nGPU available (YESS!!!!)\n",
          "output_type": "stream"
        },
        {
          "name": "stderr",
          "text": "I0000 00:00:1747560201.894793     166 gpu_device.cc:2022] Created device /device:GPU:0 with 15513 MB memory:  -> device: 0, name: Tesla P100-PCIE-16GB, pci bus id: 0000:00:04.0, compute capability: 6.0\n",
          "output_type": "stream"
        }
      ],
      "execution_count": null
    },
    {
      "cell_type": "code",
      "source": [
        "!pip install tensorflow-addons"
      ],
      "metadata": {
        "execution": {
          "iopub.status.busy": "2025-05-18T09:23:23.231870Z",
          "iopub.execute_input": "2025-05-18T09:23:23.232978Z",
          "iopub.status.idle": "2025-05-18T09:23:26.327975Z",
          "shell.execute_reply.started": "2025-05-18T09:23:23.232945Z",
          "shell.execute_reply": "2025-05-18T09:23:26.326946Z"
        },
        "trusted": true,
        "id": "SuVZ3_jdUvRm",
        "outputId": "bf923271-50a1-4276-9241-316c6c73883d"
      },
      "outputs": [
        {
          "name": "stdout",
          "text": "Requirement already satisfied: tensorflow-addons in /usr/local/lib/python3.11/dist-packages (0.23.0)\nRequirement already satisfied: packaging in /usr/local/lib/python3.11/dist-packages (from tensorflow-addons) (25.0)\nRequirement already satisfied: typeguard<3.0.0,>=2.7 in /usr/local/lib/python3.11/dist-packages (from tensorflow-addons) (2.13.3)\n",
          "output_type": "stream"
        }
      ],
      "execution_count": null
    },
    {
      "cell_type": "code",
      "source": [
        "!pip install transformers"
      ],
      "metadata": {
        "colab": {
          "base_uri": "https://localhost:8080/"
        },
        "id": "o3TqB_BBgNjJ",
        "outputId": "4a0490a6-5b1e-48fc-b949-0b5cb667fb4e",
        "execution": {
          "iopub.status.busy": "2025-05-18T09:23:27.088609Z",
          "iopub.execute_input": "2025-05-18T09:23:27.089248Z",
          "iopub.status.idle": "2025-05-18T09:23:30.220721Z",
          "shell.execute_reply.started": "2025-05-18T09:23:27.089218Z",
          "shell.execute_reply": "2025-05-18T09:23:30.219801Z"
        },
        "trusted": true
      },
      "outputs": [
        {
          "name": "stdout",
          "text": "Requirement already satisfied: transformers in /usr/local/lib/python3.11/dist-packages (4.51.3)\nRequirement already satisfied: filelock in /usr/local/lib/python3.11/dist-packages (from transformers) (3.18.0)\nRequirement already satisfied: huggingface-hub<1.0,>=0.30.0 in /usr/local/lib/python3.11/dist-packages (from transformers) (0.31.1)\nRequirement already satisfied: numpy>=1.17 in /usr/local/lib/python3.11/dist-packages (from transformers) (1.26.4)\nRequirement already satisfied: packaging>=20.0 in /usr/local/lib/python3.11/dist-packages (from transformers) (25.0)\nRequirement already satisfied: pyyaml>=5.1 in /usr/local/lib/python3.11/dist-packages (from transformers) (6.0.2)\nRequirement already satisfied: regex!=2019.12.17 in /usr/local/lib/python3.11/dist-packages (from transformers) (2024.11.6)\nRequirement already satisfied: requests in /usr/local/lib/python3.11/dist-packages (from transformers) (2.32.3)\nRequirement already satisfied: tokenizers<0.22,>=0.21 in /usr/local/lib/python3.11/dist-packages (from transformers) (0.21.1)\nRequirement already satisfied: safetensors>=0.4.3 in /usr/local/lib/python3.11/dist-packages (from transformers) (0.5.3)\nRequirement already satisfied: tqdm>=4.27 in /usr/local/lib/python3.11/dist-packages (from transformers) (4.67.1)\nRequirement already satisfied: fsspec>=2023.5.0 in /usr/local/lib/python3.11/dist-packages (from huggingface-hub<1.0,>=0.30.0->transformers) (2025.3.0)\nRequirement already satisfied: typing-extensions>=3.7.4.3 in /usr/local/lib/python3.11/dist-packages (from huggingface-hub<1.0,>=0.30.0->transformers) (4.13.2)\nRequirement already satisfied: hf-xet<2.0.0,>=1.1.0 in /usr/local/lib/python3.11/dist-packages (from huggingface-hub<1.0,>=0.30.0->transformers) (1.1.0)\nRequirement already satisfied: mkl_fft in /usr/local/lib/python3.11/dist-packages (from numpy>=1.17->transformers) (1.3.8)\nRequirement already satisfied: mkl_random in /usr/local/lib/python3.11/dist-packages (from numpy>=1.17->transformers) (1.2.4)\nRequirement already satisfied: mkl_umath in /usr/local/lib/python3.11/dist-packages (from numpy>=1.17->transformers) (0.1.1)\nRequirement already satisfied: mkl in /usr/local/lib/python3.11/dist-packages (from numpy>=1.17->transformers) (2025.1.0)\nRequirement already satisfied: tbb4py in /usr/local/lib/python3.11/dist-packages (from numpy>=1.17->transformers) (2022.1.0)\nRequirement already satisfied: mkl-service in /usr/local/lib/python3.11/dist-packages (from numpy>=1.17->transformers) (2.4.1)\nRequirement already satisfied: charset-normalizer<4,>=2 in /usr/local/lib/python3.11/dist-packages (from requests->transformers) (3.4.2)\nRequirement already satisfied: idna<4,>=2.5 in /usr/local/lib/python3.11/dist-packages (from requests->transformers) (3.10)\nRequirement already satisfied: urllib3<3,>=1.21.1 in /usr/local/lib/python3.11/dist-packages (from requests->transformers) (2.4.0)\nRequirement already satisfied: certifi>=2017.4.17 in /usr/local/lib/python3.11/dist-packages (from requests->transformers) (2025.4.26)\nRequirement already satisfied: intel-openmp<2026,>=2024 in /usr/local/lib/python3.11/dist-packages (from mkl->numpy>=1.17->transformers) (2024.2.0)\nRequirement already satisfied: tbb==2022.* in /usr/local/lib/python3.11/dist-packages (from mkl->numpy>=1.17->transformers) (2022.1.0)\nRequirement already satisfied: tcmlib==1.* in /usr/local/lib/python3.11/dist-packages (from tbb==2022.*->mkl->numpy>=1.17->transformers) (1.3.0)\nRequirement already satisfied: intel-cmplr-lib-rt in /usr/local/lib/python3.11/dist-packages (from mkl_umath->numpy>=1.17->transformers) (2024.2.0)\nRequirement already satisfied: intel-cmplr-lib-ur==2024.2.0 in /usr/local/lib/python3.11/dist-packages (from intel-openmp<2026,>=2024->mkl->numpy>=1.17->transformers) (2024.2.0)\n",
          "output_type": "stream"
        }
      ],
      "execution_count": null
    },
    {
      "cell_type": "markdown",
      "source": [
        "# **PART 2**"
      ],
      "metadata": {
        "id": "rKpOBjc_xcEd"
      }
    },
    {
      "cell_type": "code",
      "source": [
        "!pip install datasets"
      ],
      "metadata": {
        "colab": {
          "base_uri": "https://localhost:8080/"
        },
        "id": "zjDohysWx4ph",
        "outputId": "4475778d-4d2b-4f65-f599-c5868b261024",
        "execution": {
          "iopub.status.busy": "2025-05-18T09:23:30.222123Z",
          "iopub.execute_input": "2025-05-18T09:23:30.222397Z",
          "iopub.status.idle": "2025-05-18T09:23:33.442648Z",
          "shell.execute_reply.started": "2025-05-18T09:23:30.222370Z",
          "shell.execute_reply": "2025-05-18T09:23:33.441881Z"
        },
        "trusted": true
      },
      "outputs": [
        {
          "name": "stdout",
          "text": "Requirement already satisfied: datasets in /usr/local/lib/python3.11/dist-packages (3.6.0)\nRequirement already satisfied: filelock in /usr/local/lib/python3.11/dist-packages (from datasets) (3.18.0)\nRequirement already satisfied: numpy>=1.17 in /usr/local/lib/python3.11/dist-packages (from datasets) (1.26.4)\nRequirement already satisfied: pyarrow>=15.0.0 in /usr/local/lib/python3.11/dist-packages (from datasets) (19.0.1)\nRequirement already satisfied: dill<0.3.9,>=0.3.0 in /usr/local/lib/python3.11/dist-packages (from datasets) (0.3.8)\nRequirement already satisfied: pandas in /usr/local/lib/python3.11/dist-packages (from datasets) (2.2.3)\nRequirement already satisfied: requests>=2.32.2 in /usr/local/lib/python3.11/dist-packages (from datasets) (2.32.3)\nRequirement already satisfied: tqdm>=4.66.3 in /usr/local/lib/python3.11/dist-packages (from datasets) (4.67.1)\nRequirement already satisfied: xxhash in /usr/local/lib/python3.11/dist-packages (from datasets) (3.5.0)\nRequirement already satisfied: multiprocess<0.70.17 in /usr/local/lib/python3.11/dist-packages (from datasets) (0.70.16)\nRequirement already satisfied: fsspec<=2025.3.0,>=2023.1.0 in /usr/local/lib/python3.11/dist-packages (from fsspec[http]<=2025.3.0,>=2023.1.0->datasets) (2025.3.0)\nRequirement already satisfied: huggingface-hub>=0.24.0 in /usr/local/lib/python3.11/dist-packages (from datasets) (0.31.1)\nRequirement already satisfied: packaging in /usr/local/lib/python3.11/dist-packages (from datasets) (25.0)\nRequirement already satisfied: pyyaml>=5.1 in /usr/local/lib/python3.11/dist-packages (from datasets) (6.0.2)\nRequirement already satisfied: aiohttp!=4.0.0a0,!=4.0.0a1 in /usr/local/lib/python3.11/dist-packages (from fsspec[http]<=2025.3.0,>=2023.1.0->datasets) (3.11.18)\nRequirement already satisfied: typing-extensions>=3.7.4.3 in /usr/local/lib/python3.11/dist-packages (from huggingface-hub>=0.24.0->datasets) (4.13.2)\nRequirement already satisfied: hf-xet<2.0.0,>=1.1.0 in /usr/local/lib/python3.11/dist-packages (from huggingface-hub>=0.24.0->datasets) (1.1.0)\nRequirement already satisfied: mkl_fft in /usr/local/lib/python3.11/dist-packages (from numpy>=1.17->datasets) (1.3.8)\nRequirement already satisfied: mkl_random in /usr/local/lib/python3.11/dist-packages (from numpy>=1.17->datasets) (1.2.4)\nRequirement already satisfied: mkl_umath in /usr/local/lib/python3.11/dist-packages (from numpy>=1.17->datasets) (0.1.1)\nRequirement already satisfied: mkl in /usr/local/lib/python3.11/dist-packages (from numpy>=1.17->datasets) (2025.1.0)\nRequirement already satisfied: tbb4py in /usr/local/lib/python3.11/dist-packages (from numpy>=1.17->datasets) (2022.1.0)\nRequirement already satisfied: mkl-service in /usr/local/lib/python3.11/dist-packages (from numpy>=1.17->datasets) (2.4.1)\nRequirement already satisfied: charset-normalizer<4,>=2 in /usr/local/lib/python3.11/dist-packages (from requests>=2.32.2->datasets) (3.4.2)\nRequirement already satisfied: idna<4,>=2.5 in /usr/local/lib/python3.11/dist-packages (from requests>=2.32.2->datasets) (3.10)\nRequirement already satisfied: urllib3<3,>=1.21.1 in /usr/local/lib/python3.11/dist-packages (from requests>=2.32.2->datasets) (2.4.0)\nRequirement already satisfied: certifi>=2017.4.17 in /usr/local/lib/python3.11/dist-packages (from requests>=2.32.2->datasets) (2025.4.26)\nRequirement already satisfied: python-dateutil>=2.8.2 in /usr/local/lib/python3.11/dist-packages (from pandas->datasets) (2.9.0.post0)\nRequirement already satisfied: pytz>=2020.1 in /usr/local/lib/python3.11/dist-packages (from pandas->datasets) (2025.2)\nRequirement already satisfied: tzdata>=2022.7 in /usr/local/lib/python3.11/dist-packages (from pandas->datasets) (2025.2)\nRequirement already satisfied: aiohappyeyeballs>=2.3.0 in /usr/local/lib/python3.11/dist-packages (from aiohttp!=4.0.0a0,!=4.0.0a1->fsspec[http]<=2025.3.0,>=2023.1.0->datasets) (2.6.1)\nRequirement already satisfied: aiosignal>=1.1.2 in /usr/local/lib/python3.11/dist-packages (from aiohttp!=4.0.0a0,!=4.0.0a1->fsspec[http]<=2025.3.0,>=2023.1.0->datasets) (1.3.2)\nRequirement already satisfied: attrs>=17.3.0 in /usr/local/lib/python3.11/dist-packages (from aiohttp!=4.0.0a0,!=4.0.0a1->fsspec[http]<=2025.3.0,>=2023.1.0->datasets) (25.3.0)\nRequirement already satisfied: frozenlist>=1.1.1 in /usr/local/lib/python3.11/dist-packages (from aiohttp!=4.0.0a0,!=4.0.0a1->fsspec[http]<=2025.3.0,>=2023.1.0->datasets) (1.6.0)\nRequirement already satisfied: multidict<7.0,>=4.5 in /usr/local/lib/python3.11/dist-packages (from aiohttp!=4.0.0a0,!=4.0.0a1->fsspec[http]<=2025.3.0,>=2023.1.0->datasets) (6.4.3)\nRequirement already satisfied: propcache>=0.2.0 in /usr/local/lib/python3.11/dist-packages (from aiohttp!=4.0.0a0,!=4.0.0a1->fsspec[http]<=2025.3.0,>=2023.1.0->datasets) (0.3.1)\nRequirement already satisfied: yarl<2.0,>=1.17.0 in /usr/local/lib/python3.11/dist-packages (from aiohttp!=4.0.0a0,!=4.0.0a1->fsspec[http]<=2025.3.0,>=2023.1.0->datasets) (1.20.0)\nRequirement already satisfied: six>=1.5 in /usr/local/lib/python3.11/dist-packages (from python-dateutil>=2.8.2->pandas->datasets) (1.17.0)\nRequirement already satisfied: intel-openmp<2026,>=2024 in /usr/local/lib/python3.11/dist-packages (from mkl->numpy>=1.17->datasets) (2024.2.0)\nRequirement already satisfied: tbb==2022.* in /usr/local/lib/python3.11/dist-packages (from mkl->numpy>=1.17->datasets) (2022.1.0)\nRequirement already satisfied: tcmlib==1.* in /usr/local/lib/python3.11/dist-packages (from tbb==2022.*->mkl->numpy>=1.17->datasets) (1.3.0)\nRequirement already satisfied: intel-cmplr-lib-rt in /usr/local/lib/python3.11/dist-packages (from mkl_umath->numpy>=1.17->datasets) (2024.2.0)\nRequirement already satisfied: intel-cmplr-lib-ur==2024.2.0 in /usr/local/lib/python3.11/dist-packages (from intel-openmp<2026,>=2024->mkl->numpy>=1.17->datasets) (2024.2.0)\n",
          "output_type": "stream"
        }
      ],
      "execution_count": null
    },
    {
      "cell_type": "code",
      "source": [
        "from datasets import load_dataset\n",
        "from transformers import AutoTokenizer, AutoModelForTokenClassification, TrainingArguments, Trainer\n",
        "from transformers import DataCollatorForTokenClassification\n",
        "import numpy as np\n",
        "from sklearn.metrics import classification_report\n",
        "import torch\n",
        "\n",
        "from transformers import AutoTokenizer\n",
        "\n",
        "# Load the tokenizer\n",
        "tokenizer = AutoTokenizer.from_pretrained(\"google-bert/bert-base-multilingual-cased\")\n",
        "\n",
        "from datasets import load_dataset\n",
        "\n",
        "# Load the Tamil NER dataset\n",
        "dataset = load_dataset(\"google/xtreme\", \"PAN-X.ta\")\n",
        "train_data = dataset['train']\n",
        "validation_data = dataset['validation']\n",
        "test_data = dataset['test']"
      ],
      "metadata": {
        "id": "RHO-CjgfxZ1P",
        "execution": {
          "iopub.status.busy": "2025-05-18T09:23:33.721688Z",
          "iopub.execute_input": "2025-05-18T09:23:33.722014Z",
          "iopub.status.idle": "2025-05-18T09:23:42.049134Z",
          "shell.execute_reply.started": "2025-05-18T09:23:33.721981Z",
          "shell.execute_reply": "2025-05-18T09:23:42.048462Z"
        },
        "trusted": true
      },
      "outputs": [],
      "execution_count": null
    },
    {
      "cell_type": "code",
      "source": [
        "# Preprocessing the dataset to align NER tags with tokens\n",
        "label_list = [\"O\", \"B-PER\", \"I-PER\", \"B-ORG\", \"I-ORG\", \"B-LOC\", \"I-LOC\"]\n",
        "\n",
        "def align_labels_with_tokens(labels, word_ids):\n",
        "    new_labels = []\n",
        "    previous_word_id = None\n",
        "    for word_id in word_ids:\n",
        "        if word_id is None:\n",
        "            new_labels.append(-100)  # Ignore these tokens in the loss\n",
        "        elif word_id != previous_word_id:\n",
        "            new_labels.append(labels[word_id])  # Only label first token of the word\n",
        "        else:\n",
        "            # Continue with I- tags for inner tokens, otherwise ignore\n",
        "            new_labels.append(labels[word_id] if label_list[labels[word_id]].startswith(\"I-\") else -100)\n",
        "        previous_word_id = word_id\n",
        "    return new_labels\n",
        "\n",
        "\n",
        "def preprocess_data(batch):\n",
        "    tokenized_inputs = tokenizer(batch[\"tokens\"], truncation=True, is_split_into_words=True, padding=\"max_length\", max_length=128)\n",
        "    all_word_ids = [tokenized_inputs.word_ids(i) for i in range(len(batch[\"tokens\"]))]\n",
        "\n",
        "    # Align labels with word ids for each example in the batch\n",
        "    all_aligned_labels = [\n",
        "        align_labels_with_tokens(labels, word_ids) for labels, word_ids in zip(batch[\"ner_tags\"], all_word_ids)\n",
        "    ]\n",
        "\n",
        "    # Add aligned labels to tokenized inputs\n",
        "    tokenized_inputs[\"labels\"] = all_aligned_labels\n",
        "    return tokenized_inputs\n",
        "\n",
        "\n",
        "train_dataset = train_data.map(preprocess_data, batched=True)\n",
        "validation_dataset = validation_data.map(preprocess_data, batched=True)\n",
        "test_dataset = test_data.map(preprocess_data, batched=True)\n",
        "\n"
      ],
      "metadata": {
        "id": "mrH9PAtsxin7",
        "execution": {
          "iopub.status.busy": "2025-05-18T09:23:45.254312Z",
          "iopub.execute_input": "2025-05-18T09:23:45.255321Z",
          "iopub.status.idle": "2025-05-18T09:23:45.549927Z",
          "shell.execute_reply.started": "2025-05-18T09:23:45.255292Z",
          "shell.execute_reply": "2025-05-18T09:23:45.549322Z"
        },
        "trusted": true,
        "colab": {
          "referenced_widgets": [
            "31103ac7447c4346921750ddc85c0438"
          ]
        },
        "outputId": "8032764f-8fe6-4c7c-98f7-2994ea0efad7"
      },
      "outputs": [
        {
          "output_type": "display_data",
          "data": {
            "text/plain": "Map:   0%|          | 0/1000 [00:00<?, ? examples/s]",
            "application/vnd.jupyter.widget-view+json": {
              "version_major": 2,
              "version_minor": 0,
              "model_id": "31103ac7447c4346921750ddc85c0438"
            }
          },
          "metadata": {}
        }
      ],
      "execution_count": null
    },
    {
      "cell_type": "code",
      "source": [
        "from transformers import AutoModelForTokenClassification, TrainingArguments, Trainer\n",
        "\n",
        "# Load the model with more capacity for multilingual tasks\n",
        "model = AutoModelForTokenClassification.from_pretrained(\"google-bert/bert-base-multilingual-cased\", num_labels=dataset['train'].features['ner_tags'].feature.num_classes)\n"
      ],
      "metadata": {
        "execution": {
          "iopub.status.busy": "2025-05-18T09:23:50.742742Z",
          "iopub.execute_input": "2025-05-18T09:23:50.743345Z",
          "iopub.status.idle": "2025-05-18T09:23:50.972244Z",
          "shell.execute_reply.started": "2025-05-18T09:23:50.743320Z",
          "shell.execute_reply": "2025-05-18T09:23:50.971500Z"
        },
        "trusted": true,
        "id": "ybguUJ3hUvRo",
        "outputId": "cd000df9-97b4-4fa9-d420-fa7741a050ed"
      },
      "outputs": [
        {
          "name": "stderr",
          "text": "Some weights of BertForTokenClassification were not initialized from the model checkpoint at google-bert/bert-base-multilingual-cased and are newly initialized: ['classifier.bias', 'classifier.weight']\nYou should probably TRAIN this model on a down-stream task to be able to use it for predictions and inference.\n",
          "output_type": "stream"
        }
      ],
      "execution_count": null
    },
    {
      "cell_type": "code",
      "source": [
        "!pip install seqeval\n"
      ],
      "metadata": {
        "execution": {
          "iopub.status.busy": "2025-05-18T09:23:55.965552Z",
          "iopub.execute_input": "2025-05-18T09:23:55.965961Z",
          "iopub.status.idle": "2025-05-18T09:23:59.123543Z",
          "shell.execute_reply.started": "2025-05-18T09:23:55.965918Z",
          "shell.execute_reply": "2025-05-18T09:23:59.122520Z"
        },
        "trusted": true,
        "id": "OjquYnfLUvRo",
        "outputId": "4960e38d-9cf1-4f54-93a4-67d099bc9c69"
      },
      "outputs": [
        {
          "name": "stderr",
          "text": "huggingface/tokenizers: The current process just got forked, after parallelism has already been used. Disabling parallelism to avoid deadlocks...\nTo disable this warning, you can either:\n\t- Avoid using `tokenizers` before the fork if possible\n\t- Explicitly set the environment variable TOKENIZERS_PARALLELISM=(true | false)\n",
          "output_type": "stream"
        },
        {
          "name": "stdout",
          "text": "Requirement already satisfied: seqeval in /usr/local/lib/python3.11/dist-packages (1.2.2)\nRequirement already satisfied: numpy>=1.14.0 in /usr/local/lib/python3.11/dist-packages (from seqeval) (1.26.4)\nRequirement already satisfied: scikit-learn>=0.21.3 in /usr/local/lib/python3.11/dist-packages (from seqeval) (1.2.2)\nRequirement already satisfied: mkl_fft in /usr/local/lib/python3.11/dist-packages (from numpy>=1.14.0->seqeval) (1.3.8)\nRequirement already satisfied: mkl_random in /usr/local/lib/python3.11/dist-packages (from numpy>=1.14.0->seqeval) (1.2.4)\nRequirement already satisfied: mkl_umath in /usr/local/lib/python3.11/dist-packages (from numpy>=1.14.0->seqeval) (0.1.1)\nRequirement already satisfied: mkl in /usr/local/lib/python3.11/dist-packages (from numpy>=1.14.0->seqeval) (2025.1.0)\nRequirement already satisfied: tbb4py in /usr/local/lib/python3.11/dist-packages (from numpy>=1.14.0->seqeval) (2022.1.0)\nRequirement already satisfied: mkl-service in /usr/local/lib/python3.11/dist-packages (from numpy>=1.14.0->seqeval) (2.4.1)\nRequirement already satisfied: scipy>=1.3.2 in /usr/local/lib/python3.11/dist-packages (from scikit-learn>=0.21.3->seqeval) (1.15.2)\nRequirement already satisfied: joblib>=1.1.1 in /usr/local/lib/python3.11/dist-packages (from scikit-learn>=0.21.3->seqeval) (1.5.0)\nRequirement already satisfied: threadpoolctl>=2.0.0 in /usr/local/lib/python3.11/dist-packages (from scikit-learn>=0.21.3->seqeval) (3.6.0)\nRequirement already satisfied: intel-openmp<2026,>=2024 in /usr/local/lib/python3.11/dist-packages (from mkl->numpy>=1.14.0->seqeval) (2024.2.0)\nRequirement already satisfied: tbb==2022.* in /usr/local/lib/python3.11/dist-packages (from mkl->numpy>=1.14.0->seqeval) (2022.1.0)\nRequirement already satisfied: tcmlib==1.* in /usr/local/lib/python3.11/dist-packages (from tbb==2022.*->mkl->numpy>=1.14.0->seqeval) (1.3.0)\nRequirement already satisfied: intel-cmplr-lib-rt in /usr/local/lib/python3.11/dist-packages (from mkl_umath->numpy>=1.14.0->seqeval) (2024.2.0)\nRequirement already satisfied: intel-cmplr-lib-ur==2024.2.0 in /usr/local/lib/python3.11/dist-packages (from intel-openmp<2026,>=2024->mkl->numpy>=1.14.0->seqeval) (2024.2.0)\n",
          "output_type": "stream"
        }
      ],
      "execution_count": null
    },
    {
      "cell_type": "code",
      "source": [
        "from seqeval.metrics import classification_report, f1_score, accuracy_score, precision_score, recall_score\n",
        "import numpy as np\n",
        "\n",
        "# Define compute_metrics function\n",
        "def compute_metrics(pred):\n",
        "    label_ids = pred.label_ids\n",
        "    predictions = pred.predictions.argmax(-1)\n",
        "\n",
        "    # Remove ignored index (special tokens)\n",
        "    true_labels = [[label_list[label_id] for (label_id, pred_id) in zip(label_ids[i], predictions[i]) if label_id != -100]\n",
        "                   for i in range(len(label_ids))]\n",
        "    true_predictions = [[label_list[pred_id] for (label_id, pred_id) in zip(label_ids[i], predictions[i]) if label_id != -100]\n",
        "                        for i in range(len(predictions))]\n",
        "\n",
        "    # Calculate metrics using seqeval\n",
        "    precision = precision_score(true_labels, true_predictions)\n",
        "    recall = recall_score(true_labels, true_predictions)\n",
        "    f1 = f1_score(true_labels, true_predictions)\n",
        "    accuracy = accuracy_score(true_labels, true_predictions)\n",
        "\n",
        "    return {\n",
        "        \"accuracy\": accuracy,\n",
        "        \"precision\": precision,\n",
        "        \"recall\": recall,\n",
        "        \"f1\": f1\n",
        "    }\n",
        "\n",
        "training_args = TrainingArguments(\n",
        "    output_dir=\"./results\",\n",
        "    eval_strategy=\"epoch\",\n",
        "    save_strategy=\"no\",\n",
        "    learning_rate=2e-5,\n",
        "    per_device_train_batch_size=8,\n",
        "    per_device_eval_batch_size=8,\n",
        "    num_train_epochs=3,\n",
        "    weight_decay=0.01,\n",
        "    report_to=\"none\"\n",
        ")\n",
        "\n",
        "# Update Trainer to include the compute_metrics function\n",
        "trainer = Trainer(\n",
        "    model=model,\n",
        "    args=training_args,\n",
        "    train_dataset=train_dataset,\n",
        "    eval_dataset=validation_dataset,\n",
        "    tokenizer=tokenizer,\n",
        "    compute_metrics=compute_metrics\n",
        ")\n",
        "\n",
        "import pandas as pd\n",
        "from transformers import Trainer, TrainingArguments\n",
        "\n",
        "# Run evaluation on test dataset\n",
        "metrics = trainer.evaluate(test_dataset)\n",
        "\n",
        "# Convert metrics to DataFrame\n",
        "metrics_df = pd.DataFrame([metrics])\n",
        "\n",
        "# Display the DataFrame\n",
        "print(metrics_df)\n",
        "\n"
      ],
      "metadata": {
        "execution": {
          "iopub.status.busy": "2025-05-18T09:24:00.195905Z",
          "iopub.execute_input": "2025-05-18T09:24:00.196897Z",
          "iopub.status.idle": "2025-05-18T09:24:05.266838Z",
          "shell.execute_reply.started": "2025-05-18T09:24:00.196835Z",
          "shell.execute_reply": "2025-05-18T09:24:05.266142Z"
        },
        "trusted": true,
        "id": "yfGouoPdUvRo",
        "outputId": "7f699a66-b2bc-46e0-e485-928f2dc38a2c"
      },
      "outputs": [
        {
          "name": "stderr",
          "text": "/tmp/ipykernel_166/1315381389.py:41: FutureWarning: `tokenizer` is deprecated and will be removed in version 5.0.0 for `Trainer.__init__`. Use `processing_class` instead.\n  trainer = Trainer(\n",
          "output_type": "stream"
        },
        {
          "output_type": "display_data",
          "data": {
            "text/plain": "<IPython.core.display.HTML object>",
            "text/html": "\n    <div>\n      \n      <progress value='125' max='125' style='width:300px; height:20px; vertical-align: middle;'></progress>\n      [125/125 00:04]\n    </div>\n    "
          },
          "metadata": {}
        },
        {
          "name": "stdout",
          "text": "   eval_loss  eval_model_preparation_time  eval_accuracy  eval_precision  \\\n0   1.994987                       0.0031       0.146663        0.013597   \n\n   eval_recall   eval_f1  eval_runtime  eval_samples_per_second  \\\n0     0.079774  0.023234         4.691                  213.176   \n\n   eval_steps_per_second  \n0                 26.647  \n",
          "output_type": "stream"
        }
      ],
      "execution_count": null
    },
    {
      "cell_type": "code",
      "source": [
        "metrics_df"
      ],
      "metadata": {
        "execution": {
          "iopub.status.busy": "2025-05-18T09:24:08.288923Z",
          "iopub.execute_input": "2025-05-18T09:24:08.289553Z",
          "iopub.status.idle": "2025-05-18T09:24:08.300836Z",
          "shell.execute_reply.started": "2025-05-18T09:24:08.289530Z",
          "shell.execute_reply": "2025-05-18T09:24:08.300069Z"
        },
        "trusted": true,
        "id": "HjXzEFKoUvRp",
        "outputId": "9d9af721-bee0-4bab-ac62-09e2530ec0e0"
      },
      "outputs": [
        {
          "execution_count": 10,
          "output_type": "execute_result",
          "data": {
            "text/plain": "   eval_loss  eval_model_preparation_time  eval_accuracy  eval_precision  \\\n0   1.994987                       0.0031       0.146663        0.013597   \n\n   eval_recall   eval_f1  eval_runtime  eval_samples_per_second  \\\n0     0.079774  0.023234         4.691                  213.176   \n\n   eval_steps_per_second  \n0                 26.647  ",
            "text/html": "<div>\n<style scoped>\n    .dataframe tbody tr th:only-of-type {\n        vertical-align: middle;\n    }\n\n    .dataframe tbody tr th {\n        vertical-align: top;\n    }\n\n    .dataframe thead th {\n        text-align: right;\n    }\n</style>\n<table border=\"1\" class=\"dataframe\">\n  <thead>\n    <tr style=\"text-align: right;\">\n      <th></th>\n      <th>eval_loss</th>\n      <th>eval_model_preparation_time</th>\n      <th>eval_accuracy</th>\n      <th>eval_precision</th>\n      <th>eval_recall</th>\n      <th>eval_f1</th>\n      <th>eval_runtime</th>\n      <th>eval_samples_per_second</th>\n      <th>eval_steps_per_second</th>\n    </tr>\n  </thead>\n  <tbody>\n    <tr>\n      <th>0</th>\n      <td>1.994987</td>\n      <td>0.0031</td>\n      <td>0.146663</td>\n      <td>0.013597</td>\n      <td>0.079774</td>\n      <td>0.023234</td>\n      <td>4.691</td>\n      <td>213.176</td>\n      <td>26.647</td>\n    </tr>\n  </tbody>\n</table>\n</div>"
          },
          "metadata": {}
        }
      ],
      "execution_count": null
    },
    {
      "cell_type": "code",
      "source": [
        "import logging\n",
        "from transformers import EarlyStoppingCallback, TrainingArguments, Trainer, AutoTokenizer, AutoModelForTokenClassification, DataCollatorForTokenClassification\n",
        "from torch.optim import AdamW\n",
        "\n",
        "logging.getLogger(\"transformers.modeling_utils\").setLevel(logging.ERROR)  # Suppress warnings\n",
        "\n",
        "# Define data collator\n",
        "data_collator = DataCollatorForTokenClassification(tokenizer=tokenizer)\n",
        "\n",
        "from torch.optim import AdamW\n",
        "\n",
        "def get_optimizer(model):\n",
        "    base_lr = 2e-5  # Base learning rate\n",
        "    layerwise_decay = 0.9  # Decay factor\n",
        "\n",
        "    optimizer_grouped_parameters = []\n",
        "    # Apply LLRD on BERT encoder layers\n",
        "    for i, layer in enumerate(model.bert.encoder.layer):\n",
        "        layer_lr = base_lr * (layerwise_decay ** (len(model.bert.encoder.layer) - i - 1))\n",
        "        optimizer_grouped_parameters.append({\"params\": layer.parameters(), \"lr\": layer_lr})\n",
        "\n",
        "    # Apply base learning rate for classifier head\n",
        "    optimizer_grouped_parameters.append({\"params\": model.classifier.parameters(), \"lr\": base_lr})\n",
        "\n",
        "    # Initialize AdamW optimizer with weight decay\n",
        "    return AdamW(optimizer_grouped_parameters, lr=base_lr, weight_decay=0.01)\n",
        "\n",
        "# Training arguments\n",
        "training_args = TrainingArguments(\n",
        "    output_dir=\"./results\",\n",
        "    eval_strategy=\"epoch\",\n",
        "    save_strategy=\"no\",\n",
        "    learning_rate=2e-5,\n",
        "    per_device_train_batch_size=8,\n",
        "    per_device_eval_batch_size=8,\n",
        "    num_train_epochs=10,\n",
        "    weight_decay=0.01,\n",
        "    report_to=\"none\",\n",
        ")\n",
        "\n",
        "# Trainer setup with custom optimizer and LLRD\n",
        "trainer = Trainer(\n",
        "    model=model,\n",
        "    args=training_args,\n",
        "    train_dataset=train_dataset,\n",
        "    eval_dataset=validation_dataset,\n",
        "    tokenizer=tokenizer,\n",
        "    data_collator=data_collator,\n",
        "    compute_metrics=compute_metrics,\n",
        "    optimizers=(get_optimizer(model), None)  # Custom optimizer with LLRD\n",
        "\n",
        ")\n",
        "\n",
        "trainer.train()\n",
        "\n",
        "# Run evaluation on test dataset and display metrics as DataFrame\n",
        "import pandas as pd\n",
        "\n",
        "metrics = trainer.evaluate(test_dataset)\n",
        "metrics_df = pd.DataFrame([metrics])\n",
        "metrics_df\n"
      ],
      "metadata": {
        "execution": {
          "iopub.status.busy": "2025-05-18T09:24:10.808933Z",
          "iopub.execute_input": "2025-05-18T09:24:10.809221Z",
          "iopub.status.idle": "2025-05-18T10:05:03.896419Z",
          "shell.execute_reply.started": "2025-05-18T09:24:10.809199Z",
          "shell.execute_reply": "2025-05-18T10:05:03.895586Z"
        },
        "trusted": true,
        "id": "sNXEeNenUvRp",
        "outputId": "e246e8bd-ccaf-4cdf-cbd1-e835b7f1391e"
      },
      "outputs": [
        {
          "name": "stderr",
          "text": "/tmp/ipykernel_166/1331705154.py:42: FutureWarning: `tokenizer` is deprecated and will be removed in version 5.0.0 for `Trainer.__init__`. Use `processing_class` instead.\n  trainer = Trainer(\n",
          "output_type": "stream"
        },
        {
          "output_type": "display_data",
          "data": {
            "text/plain": "<IPython.core.display.HTML object>",
            "text/html": "\n    <div>\n      \n      <progress value='18750' max='18750' style='width:300px; height:20px; vertical-align: middle;'></progress>\n      [18750/18750 40:47, Epoch 10/10]\n    </div>\n    <table border=\"1\" class=\"dataframe\">\n  <thead>\n <tr style=\"text-align: left;\">\n      <th>Epoch</th>\n      <th>Training Loss</th>\n      <th>Validation Loss</th>\n      <th>Accuracy</th>\n      <th>Precision</th>\n      <th>Recall</th>\n      <th>F1</th>\n    </tr>\n  </thead>\n  <tbody>\n    <tr>\n      <td>1</td>\n      <td>0.282800</td>\n      <td>0.232685</td>\n      <td>0.930913</td>\n      <td>0.751534</td>\n      <td>0.803279</td>\n      <td>0.776545</td>\n    </tr>\n    <tr>\n      <td>2</td>\n      <td>0.192200</td>\n      <td>0.234185</td>\n      <td>0.937325</td>\n      <td>0.795507</td>\n      <td>0.841803</td>\n      <td>0.818001</td>\n    </tr>\n    <tr>\n      <td>3</td>\n      <td>0.142300</td>\n      <td>0.227143</td>\n      <td>0.942202</td>\n      <td>0.787378</td>\n      <td>0.859016</td>\n      <td>0.821639</td>\n    </tr>\n    <tr>\n      <td>4</td>\n      <td>0.106100</td>\n      <td>0.236305</td>\n      <td>0.947530</td>\n      <td>0.810687</td>\n      <td>0.870492</td>\n      <td>0.839526</td>\n    </tr>\n    <tr>\n      <td>5</td>\n      <td>0.080700</td>\n      <td>0.239232</td>\n      <td>0.948885</td>\n      <td>0.820493</td>\n      <td>0.872951</td>\n      <td>0.845909</td>\n    </tr>\n    <tr>\n      <td>6</td>\n      <td>0.060900</td>\n      <td>0.260289</td>\n      <td>0.951955</td>\n      <td>0.827799</td>\n      <td>0.878689</td>\n      <td>0.852485</td>\n    </tr>\n    <tr>\n      <td>7</td>\n      <td>0.048500</td>\n      <td>0.270088</td>\n      <td>0.955206</td>\n      <td>0.831538</td>\n      <td>0.886066</td>\n      <td>0.857937</td>\n    </tr>\n    <tr>\n      <td>8</td>\n      <td>0.035700</td>\n      <td>0.296669</td>\n      <td>0.953400</td>\n      <td>0.834621</td>\n      <td>0.885246</td>\n      <td>0.859189</td>\n    </tr>\n    <tr>\n      <td>9</td>\n      <td>0.023700</td>\n      <td>0.296529</td>\n      <td>0.956380</td>\n      <td>0.839659</td>\n      <td>0.888525</td>\n      <td>0.863401</td>\n    </tr>\n    <tr>\n      <td>10</td>\n      <td>0.021900</td>\n      <td>0.304438</td>\n      <td>0.955658</td>\n      <td>0.838360</td>\n      <td>0.888525</td>\n      <td>0.862714</td>\n    </tr>\n  </tbody>\n</table><p>"
          },
          "metadata": {}
        },
        {
          "output_type": "display_data",
          "data": {
            "text/plain": "<IPython.core.display.HTML object>",
            "text/html": "\n    <div>\n      \n      <progress value='125' max='125' style='width:300px; height:20px; vertical-align: middle;'></progress>\n      [125/125 00:04]\n    </div>\n    "
          },
          "metadata": {}
        },
        {
          "execution_count": 11,
          "output_type": "execute_result",
          "data": {
            "text/plain": "   eval_loss  eval_accuracy  eval_precision  eval_recall   eval_f1  \\\n0   0.304519       0.954032        0.839327     0.883965  0.861068   \n\n   eval_runtime  eval_samples_per_second  eval_steps_per_second  epoch  \n0        4.4165                  226.423                 28.303   10.0  ",
            "text/html": "<div>\n<style scoped>\n    .dataframe tbody tr th:only-of-type {\n        vertical-align: middle;\n    }\n\n    .dataframe tbody tr th {\n        vertical-align: top;\n    }\n\n    .dataframe thead th {\n        text-align: right;\n    }\n</style>\n<table border=\"1\" class=\"dataframe\">\n  <thead>\n    <tr style=\"text-align: right;\">\n      <th></th>\n      <th>eval_loss</th>\n      <th>eval_accuracy</th>\n      <th>eval_precision</th>\n      <th>eval_recall</th>\n      <th>eval_f1</th>\n      <th>eval_runtime</th>\n      <th>eval_samples_per_second</th>\n      <th>eval_steps_per_second</th>\n      <th>epoch</th>\n    </tr>\n  </thead>\n  <tbody>\n    <tr>\n      <th>0</th>\n      <td>0.304519</td>\n      <td>0.954032</td>\n      <td>0.839327</td>\n      <td>0.883965</td>\n      <td>0.861068</td>\n      <td>4.4165</td>\n      <td>226.423</td>\n      <td>28.303</td>\n      <td>10.0</td>\n    </tr>\n  </tbody>\n</table>\n</div>"
          },
          "metadata": {}
        }
      ],
      "execution_count": null
    },
    {
      "cell_type": "code",
      "source": [
        "# Inspect the log history to understand the structure of logs\n",
        "for log in trainer.state.log_history:\n",
        "    print(log)\n"
      ],
      "metadata": {
        "execution": {
          "iopub.status.busy": "2025-05-18T10:05:40.260594Z",
          "iopub.execute_input": "2025-05-18T10:05:40.261508Z",
          "iopub.status.idle": "2025-05-18T10:05:40.267106Z",
          "shell.execute_reply.started": "2025-05-18T10:05:40.261447Z",
          "shell.execute_reply": "2025-05-18T10:05:40.266233Z"
        },
        "trusted": true,
        "id": "3gC-uXENUvRp",
        "outputId": "92f846b7-5af0-4bbe-99fe-7c8b736373af"
      },
      "outputs": [
        {
          "name": "stdout",
          "text": "{'loss': 0.4647, 'grad_norm': 19.946020126342773, 'learning_rate': 6.109181001854498e-06, 'epoch': 0.26666666666666666, 'step': 500}\n{'loss': 0.3276, 'grad_norm': 4.486378192901611, 'learning_rate': 5.941815350606498e-06, 'epoch': 0.5333333333333333, 'step': 1000}\n{'loss': 0.2828, 'grad_norm': 21.913484573364258, 'learning_rate': 5.7744496993584975e-06, 'epoch': 0.8, 'step': 1500}\n{'eval_loss': 0.23268520832061768, 'eval_accuracy': 0.9309130316987266, 'eval_precision': 0.7515337423312883, 'eval_recall': 0.8032786885245902, 'eval_f1': 0.7765451664025357, 'eval_runtime': 4.4403, 'eval_samples_per_second': 225.208, 'eval_steps_per_second': 28.151, 'epoch': 1.0, 'step': 1875}\n{'loss': 0.2364, 'grad_norm': 4.069767475128174, 'learning_rate': 5.607084048110498e-06, 'epoch': 1.0666666666666667, 'step': 2000}\n{'loss': 0.2007, 'grad_norm': 30.132678985595703, 'learning_rate': 5.439718396862498e-06, 'epoch': 1.3333333333333333, 'step': 2500}\n{'loss': 0.2045, 'grad_norm': 9.591103553771973, 'learning_rate': 5.2723527456144975e-06, 'epoch': 1.6, 'step': 3000}\n{'loss': 0.1922, 'grad_norm': 34.919063568115234, 'learning_rate': 5.104987094366498e-06, 'epoch': 1.8666666666666667, 'step': 3500}\n{'eval_loss': 0.23418454825878143, 'eval_accuracy': 0.9373250248351847, 'eval_precision': 0.7955073586367157, 'eval_recall': 0.8418032786885246, 'eval_f1': 0.81800079649542, 'eval_runtime': 4.4407, 'eval_samples_per_second': 225.188, 'eval_steps_per_second': 28.149, 'epoch': 2.0, 'step': 3750}\n{'loss': 0.1688, 'grad_norm': 4.702260494232178, 'learning_rate': 4.937621443118497e-06, 'epoch': 2.1333333333333333, 'step': 4000}\n{'loss': 0.142, 'grad_norm': 3.4347949028015137, 'learning_rate': 4.770255791870498e-06, 'epoch': 2.4, 'step': 4500}\n{'loss': 0.137, 'grad_norm': 56.57942199707031, 'learning_rate': 4.602890140622497e-06, 'epoch': 2.6666666666666665, 'step': 5000}\n{'loss': 0.1423, 'grad_norm': 26.736806869506836, 'learning_rate': 4.435524489374497e-06, 'epoch': 2.9333333333333336, 'step': 5500}\n{'eval_loss': 0.22714300453662872, 'eval_accuracy': 0.9422017520093923, 'eval_precision': 0.7873779113448535, 'eval_recall': 0.8590163934426229, 'eval_f1': 0.8216385731085848, 'eval_runtime': 4.4312, 'eval_samples_per_second': 225.671, 'eval_steps_per_second': 28.209, 'epoch': 3.0, 'step': 5625}\n{'loss': 0.114, 'grad_norm': 3.3083159923553467, 'learning_rate': 4.268158838126497e-06, 'epoch': 3.2, 'step': 6000}\n{'loss': 0.111, 'grad_norm': 0.0709381252527237, 'learning_rate': 4.100793186878497e-06, 'epoch': 3.466666666666667, 'step': 6500}\n{'loss': 0.1139, 'grad_norm': 2.2034332752227783, 'learning_rate': 3.933427535630497e-06, 'epoch': 3.7333333333333334, 'step': 7000}\n{'loss': 0.1061, 'grad_norm': 69.60382843017578, 'learning_rate': 3.7660618843824973e-06, 'epoch': 4.0, 'step': 7500}\n{'eval_loss': 0.23630499839782715, 'eval_accuracy': 0.9475300279960264, 'eval_precision': 0.8106870229007633, 'eval_recall': 0.8704918032786885, 'eval_f1': 0.8395256916996047, 'eval_runtime': 4.4239, 'eval_samples_per_second': 226.046, 'eval_steps_per_second': 28.256, 'epoch': 4.0, 'step': 7500}\n{'loss': 0.0801, 'grad_norm': 8.149740219116211, 'learning_rate': 3.5986962331344976e-06, 'epoch': 4.266666666666667, 'step': 8000}\n{'loss': 0.0798, 'grad_norm': 0.18661536276340485, 'learning_rate': 3.431330581886497e-06, 'epoch': 4.533333333333333, 'step': 8500}\n{'loss': 0.0807, 'grad_norm': 21.855602264404297, 'learning_rate': 3.2639649306384973e-06, 'epoch': 4.8, 'step': 9000}\n{'eval_loss': 0.23923151195049286, 'eval_accuracy': 0.9488846744333063, 'eval_precision': 0.8204930662557781, 'eval_recall': 0.8729508196721312, 'eval_f1': 0.8459094519459889, 'eval_runtime': 4.4398, 'eval_samples_per_second': 225.236, 'eval_steps_per_second': 28.154, 'epoch': 5.0, 'step': 9375}\n{'loss': 0.0703, 'grad_norm': 1.0489948987960815, 'learning_rate': 3.0965992793904968e-06, 'epoch': 5.066666666666666, 'step': 9500}\n{'loss': 0.051, 'grad_norm': 28.09670066833496, 'learning_rate': 2.929233628142497e-06, 'epoch': 5.333333333333333, 'step': 10000}\n{'loss': 0.0691, 'grad_norm': 4.264304161071777, 'learning_rate': 2.761867976894497e-06, 'epoch': 5.6, 'step': 10500}\n{'loss': 0.0609, 'grad_norm': 2.3247756958007812, 'learning_rate': 2.594502325646497e-06, 'epoch': 5.866666666666667, 'step': 11000}\n{'eval_loss': 0.2602888345718384, 'eval_accuracy': 0.9519552063578073, 'eval_precision': 0.8277992277992278, 'eval_recall': 0.8786885245901639, 'eval_f1': 0.8524850894632207, 'eval_runtime': 4.4403, 'eval_samples_per_second': 225.208, 'eval_steps_per_second': 28.151, 'epoch': 6.0, 'step': 11250}\n{'loss': 0.0482, 'grad_norm': 7.717112064361572, 'learning_rate': 2.4271366743984967e-06, 'epoch': 6.133333333333334, 'step': 11500}\n{'loss': 0.0444, 'grad_norm': 9.380743980407715, 'learning_rate': 2.2597710231504965e-06, 'epoch': 6.4, 'step': 12000}\n{'loss': 0.0551, 'grad_norm': 0.044690415263175964, 'learning_rate': 2.092405371902497e-06, 'epoch': 6.666666666666667, 'step': 12500}\n{'loss': 0.0485, 'grad_norm': 0.5079811811447144, 'learning_rate': 1.9250397206544967e-06, 'epoch': 6.933333333333334, 'step': 13000}\n{'eval_loss': 0.2700878083705902, 'eval_accuracy': 0.9552063578072789, 'eval_precision': 0.8315384615384616, 'eval_recall': 0.8860655737704918, 'eval_f1': 0.857936507936508, 'eval_runtime': 4.4493, 'eval_samples_per_second': 224.754, 'eval_steps_per_second': 28.094, 'epoch': 7.0, 'step': 13125}\n{'loss': 0.0313, 'grad_norm': 0.2845969498157501, 'learning_rate': 1.7576740694064964e-06, 'epoch': 7.2, 'step': 13500}\n{'loss': 0.034, 'grad_norm': 20.115930557250977, 'learning_rate': 1.5903084181584965e-06, 'epoch': 7.466666666666667, 'step': 14000}\n{'loss': 0.0428, 'grad_norm': 0.2320580780506134, 'learning_rate': 1.4229427669104966e-06, 'epoch': 7.733333333333333, 'step': 14500}\n{'loss': 0.0357, 'grad_norm': 0.05291477590799332, 'learning_rate': 1.2555771156624964e-06, 'epoch': 8.0, 'step': 15000}\n{'eval_loss': 0.2966688871383667, 'eval_accuracy': 0.9534001625575724, 'eval_precision': 0.8346213292117465, 'eval_recall': 0.8852459016393442, 'eval_f1': 0.8591885441527446, 'eval_runtime': 4.421, 'eval_samples_per_second': 226.195, 'eval_steps_per_second': 28.274, 'epoch': 8.0, 'step': 15000}\n{'loss': 0.0278, 'grad_norm': 0.01951250433921814, 'learning_rate': 1.0882114644144963e-06, 'epoch': 8.266666666666667, 'step': 15500}\n{'loss': 0.0252, 'grad_norm': 0.12265969067811966, 'learning_rate': 9.208458131664962e-07, 'epoch': 8.533333333333333, 'step': 16000}\n{'loss': 0.0237, 'grad_norm': 0.4006579518318176, 'learning_rate': 7.534801619184963e-07, 'epoch': 8.8, 'step': 16500}\n{'eval_loss': 0.29652929306030273, 'eval_accuracy': 0.9563803847195882, 'eval_precision': 0.8396591789310612, 'eval_recall': 0.8885245901639345, 'eval_f1': 0.8634010354440462, 'eval_runtime': 4.4063, 'eval_samples_per_second': 226.946, 'eval_steps_per_second': 28.368, 'epoch': 9.0, 'step': 16875}\n{'loss': 0.0268, 'grad_norm': 1.4605934619903564, 'learning_rate': 5.861145106704962e-07, 'epoch': 9.066666666666666, 'step': 17000}\n{'loss': 0.0235, 'grad_norm': 0.029601844027638435, 'learning_rate': 4.187488594224961e-07, 'epoch': 9.333333333333334, 'step': 17500}\n{'loss': 0.0226, 'grad_norm': 0.003883103607222438, 'learning_rate': 2.513832081744961e-07, 'epoch': 9.6, 'step': 18000}\n{'loss': 0.0219, 'grad_norm': 2.427494525909424, 'learning_rate': 8.401755692649603e-08, 'epoch': 9.866666666666667, 'step': 18500}\n{'eval_loss': 0.30443769693374634, 'eval_accuracy': 0.9556579066197056, 'eval_precision': 0.8383604021655066, 'eval_recall': 0.8885245901639345, 'eval_f1': 0.8627138877835258, 'eval_runtime': 4.4684, 'eval_samples_per_second': 223.792, 'eval_steps_per_second': 27.974, 'epoch': 10.0, 'step': 18750}\n{'train_runtime': 2448.1595, 'train_samples_per_second': 61.271, 'train_steps_per_second': 7.659, 'total_flos': 9799071321600000.0, 'train_loss': 0.1055318566640218, 'epoch': 10.0, 'step': 18750}\n{'eval_loss': 0.3045191168785095, 'eval_accuracy': 0.9540323308949697, 'eval_precision': 0.8393267023718439, 'eval_recall': 0.8839645447219984, 'eval_f1': 0.8610675039246468, 'eval_runtime': 4.4165, 'eval_samples_per_second': 226.423, 'eval_steps_per_second': 28.303, 'epoch': 10.0, 'step': 18750}\n",
          "output_type": "stream"
        }
      ],
      "execution_count": null
    },
    {
      "cell_type": "code",
      "source": [
        "import matplotlib.pyplot as plt\n",
        "\n",
        "# Define the epochs\n",
        "epochs = list(range(1, 11))\n",
        "\n",
        "# Define training and validation loss values\n",
        "train_loss = [0.552400, 0.391900, 0.323800, 0.257500, 0.202600, 0.173700, 0.141800, 0.112400, 0.086900, 0.081000]\n",
        "val_loss = [0.465566, 0.363911, 0.350118, 0.299650, 0.273477, 0.298329, 0.314682, 0.320620, 0.331047, 0.316977]\n",
        "\n",
        "# Plot the losses with similar styling\n",
        "plt.figure(figsize=(8,6))\n",
        "plt.plot(epochs, train_loss, 'bo-', label='Training Loss')  # Blue line with circles\n",
        "plt.plot(epochs, val_loss, 'ro-', label='Validation Loss')  # Red line with circles\n",
        "\n",
        "# Labels and title\n",
        "plt.xlabel('Epoch')\n",
        "plt.ylabel('Loss')\n",
        "plt.title('Model: Training and Validation Loss over Epochs')\n",
        "plt.legend()\n",
        "\n",
        "# Grid for better readability\n",
        "plt.grid(True, linestyle='--', alpha=0.6)\n",
        "\n",
        "# Show the plot\n",
        "plt.show()\n"
      ],
      "metadata": {
        "execution": {
          "iopub.status.busy": "2025-05-18T10:05:43.952923Z",
          "iopub.execute_input": "2025-05-18T10:05:43.953518Z",
          "iopub.status.idle": "2025-05-18T10:05:44.200660Z",
          "shell.execute_reply.started": "2025-05-18T10:05:43.953495Z",
          "shell.execute_reply": "2025-05-18T10:05:44.199865Z"
        },
        "trusted": true,
        "id": "JnI8n82aUvRp",
        "outputId": "14ff1029-6ba8-4018-e9f8-694e5bd381ef"
      },
      "outputs": [
        {
          "output_type": "display_data",
          "data": {
            "text/plain": "<Figure size 800x600 with 1 Axes>",
            "image/png": "[encoded data removed]"
          },
          "metadata": {}
        }
      ],
      "execution_count": null
    },
    {
      "cell_type": "code",
      "source": [
        "def test_model(sentences):\n",
        "    # Set the model to evaluation mode\n",
        "    model.eval()\n",
        "\n",
        "    for sentence in sentences:\n",
        "        # Tokenize the input sentence\n",
        "        tokenized_input = tokenizer(sentence, truncation=True, padding=\"max_length\", max_length=128, return_tensors=\"pt\")\n",
        "\n",
        "        # Move input tensors to the appropriate device (CPU or GPU)\n",
        "        input_ids = tokenized_input[\"input_ids\"].to(model.device)  # Ensure input is on the correct device\n",
        "        attention_mask = tokenized_input[\"attention_mask\"].to(model.device)\n",
        "\n",
        "        # Make predictions using the model\n",
        "        with torch.no_grad():\n",
        "            outputs = model(input_ids, attention_mask=attention_mask)\n",
        "\n",
        "        # Get predictions and convert logits to labels\n",
        "        predictions = np.argmax(outputs.logits.cpu().numpy(), axis=2)  # Move logits to CPU if necessary\n",
        "\n",
        "        # Align tokens with predictions\n",
        "        tokens = tokenizer.convert_ids_to_tokens(input_ids[0].cpu().numpy())  # Ensure tokens are on CPU\n",
        "        predicted_labels = [label_list[p] for p in predictions[0]]\n",
        "\n",
        "        # Print the results\n",
        "        print(f\"\\nTesting sentence: {sentence}\")\n",
        "        for token, label in zip(tokens, predicted_labels):\n",
        "            if token not in tokenizer.special_tokens_map.values() and token.strip():  # Skip special tokens and empty tokens\n",
        "                print(f\"Word: '{token}', Predicted Label: {label}\")\n",
        "\n",
        "# Example sentences for testing\n",
        "test_sentences = [\n",
        "    \"என் பெயர் வின்ஸ்டன் சர்ச்சில் மற்றும் நான் கோயம்புத்தூரில் வருகிறேன்.\",\n",
        "    \"இது ஒரு புதிய தொழில்நுட்ப மேம்பாடு.\",\n",
        "    \"தமிழ் மொழி தமிழ்நாட்டின் நிலையான மொழியாகும்.\",\n",
        "    \"இத்தாவரம் சீனா, இந்தியா, ஜப்பான், பப்பாசியா, மைக்குரோனீசியா போன்ற நாடுகளில் காணப்படுகிறது.\",\n",
        "    \"சைஃப் அலி கான், தீபிகா படுகோண், ஜான் ஆபிரகாம் (நடிகர்), ஜாக்குலின் பெர்னாண்டஸ், அனில் கபூர், அமீஷா பட்டேல், மற்றும் ரஜினிகாந்த் ஆகியோர்.\"\n",
        "]\n",
        "\n",
        "# Test the model\n",
        "test_model(test_sentences)\n"
      ],
      "metadata": {
        "execution": {
          "iopub.status.busy": "2025-05-18T10:05:57.674135Z",
          "iopub.execute_input": "2025-05-18T10:05:57.674442Z",
          "iopub.status.idle": "2025-05-18T10:05:57.749286Z",
          "shell.execute_reply.started": "2025-05-18T10:05:57.674421Z",
          "shell.execute_reply": "2025-05-18T10:05:57.748533Z"
        },
        "trusted": true,
        "id": "6MlEg9ALUvRq",
        "outputId": "fae001d4-f04a-4c0b-da0f-236f31c50a3d"
      },
      "outputs": [
        {
          "name": "stdout",
          "text": "\nTesting sentence: என் பெயர் வின்ஸ்டன் சர்ச்சில் மற்றும் நான் கோயம்புத்தூரில் வருகிறேன்.\nWord: 'என்', Predicted Label: O\nWord: 'பெயர்', Predicted Label: O\nWord: 'வ', Predicted Label: B-PER\nWord: '##ின்', Predicted Label: I-PER\nWord: '##ஸ்', Predicted Label: I-PER\nWord: '##டன்', Predicted Label: I-PER\nWord: 'ச', Predicted Label: O\nWord: '##ர்', Predicted Label: I-PER\nWord: '##ச்சி', Predicted Label: I-PER\nWord: '##ல்', Predicted Label: I-PER\nWord: 'மற்றும்', Predicted Label: O\nWord: 'ந', Predicted Label: O\nWord: '##ான்', Predicted Label: I-PER\nWord: 'க', Predicted Label: B-LOC\nWord: '##ோ', Predicted Label: I-LOC\nWord: '##யம்', Predicted Label: I-LOC\nWord: '##பு', Predicted Label: I-LOC\nWord: '##த்த', Predicted Label: I-LOC\nWord: '##ூரி', Predicted Label: I-LOC\nWord: '##ல்', Predicted Label: I-LOC\nWord: 'வ', Predicted Label: O\nWord: '##ரு', Predicted Label: O\nWord: '##கி', Predicted Label: I-PER\nWord: '##ற', Predicted Label: I-PER\nWord: '##ே', Predicted Label: O\nWord: '##ன்', Predicted Label: I-PER\nWord: '.', Predicted Label: O\n\nTesting sentence: இது ஒரு புதிய தொழில்நுட்ப மேம்பாடு.\nWord: 'இது', Predicted Label: O\nWord: 'ஒரு', Predicted Label: O\nWord: 'புதிய', Predicted Label: O\nWord: 'த', Predicted Label: B-LOC\nWord: '##ொ', Predicted Label: I-LOC\nWord: '##ழில்', Predicted Label: I-LOC\nWord: '##ந', Predicted Label: I-LOC\nWord: '##ு', Predicted Label: I-LOC\nWord: '##ட்', Predicted Label: I-LOC\nWord: '##ப', Predicted Label: I-LOC\nWord: 'மே', Predicted Label: I-LOC\nWord: '##ம்', Predicted Label: I-LOC\nWord: '##பாடு', Predicted Label: I-LOC\nWord: '.', Predicted Label: O\n\nTesting sentence: தமிழ் மொழி தமிழ்நாட்டின் நிலையான மொழியாகும்.\nWord: 'தமிழ்', Predicted Label: B-LOC\nWord: 'மொழி', Predicted Label: O\nWord: 'தமிழ்நாட்டின்', Predicted Label: B-LOC\nWord: 'நிலை', Predicted Label: O\nWord: '##யான', Predicted Label: O\nWord: 'மொழி', Predicted Label: O\nWord: '##யாகும்', Predicted Label: O\nWord: '.', Predicted Label: O\n\nTesting sentence: இத்தாவரம் சீனா, இந்தியா, ஜப்பான், பப்பாசியா, மைக்குரோனீசியா போன்ற நாடுகளில் காணப்படுகிறது.\nWord: 'இ', Predicted Label: O\nWord: '##த்த', Predicted Label: O\nWord: '##ா', Predicted Label: I-LOC\nWord: '##வ', Predicted Label: I-LOC\nWord: '##ரம்', Predicted Label: I-LOC\nWord: 'ச', Predicted Label: B-LOC\nWord: '##ீன', Predicted Label: I-LOC\nWord: '##ா', Predicted Label: I-LOC\nWord: ',', Predicted Label: O\nWord: 'இந்தியா', Predicted Label: B-LOC\nWord: ',', Predicted Label: O\nWord: 'ஜ', Predicted Label: B-LOC\nWord: '##ப்', Predicted Label: I-LOC\nWord: '##பான', Predicted Label: I-LOC\nWord: '##்', Predicted Label: I-LOC\nWord: ',', Predicted Label: O\nWord: 'ப', Predicted Label: B-LOC\nWord: '##ப்', Predicted Label: I-LOC\nWord: '##பா', Predicted Label: I-LOC\nWord: '##சிய', Predicted Label: I-LOC\nWord: '##ா', Predicted Label: I-LOC\nWord: ',', Predicted Label: O\nWord: 'ம', Predicted Label: B-LOC\nWord: '##ை', Predicted Label: I-LOC\nWord: '##க்கு', Predicted Label: I-LOC\nWord: '##ர', Predicted Label: I-LOC\nWord: '##ோ', Predicted Label: I-LOC\nWord: '##ன', Predicted Label: I-LOC\nWord: '##ீ', Predicted Label: I-LOC\nWord: '##சிய', Predicted Label: I-LOC\nWord: '##ா', Predicted Label: I-LOC\nWord: 'போன்ற', Predicted Label: O\nWord: 'ந', Predicted Label: O\nWord: '##ாடுகளில்', Predicted Label: O\nWord: 'க', Predicted Label: O\nWord: '##ா', Predicted Label: O\nWord: '##ண', Predicted Label: O\nWord: '##ப்படுகிறது', Predicted Label: O\nWord: '.', Predicted Label: O\n\nTesting sentence: சைஃப் அலி கான், தீபிகா படுகோண், ஜான் ஆபிரகாம் (நடிகர்), ஜாக்குலின் பெர்னாண்டஸ், அனில் கபூர், அமீஷா பட்டேல், மற்றும் ரஜினிகாந்த் ஆகியோர்.\nWord: 'ச', Predicted Label: B-PER\nWord: '##ை', Predicted Label: I-PER\nWord: '##ஃப்', Predicted Label: I-PER\nWord: 'அ', Predicted Label: I-PER\nWord: '##லி', Predicted Label: I-PER\nWord: 'க', Predicted Label: I-PER\nWord: '##ான்', Predicted Label: I-PER\nWord: ',', Predicted Label: O\nWord: 'த', Predicted Label: B-PER\nWord: '##ீ', Predicted Label: I-PER\nWord: '##பி', Predicted Label: I-PER\nWord: '##கா', Predicted Label: I-PER\nWord: 'ப', Predicted Label: I-PER\nWord: '##டு', Predicted Label: I-PER\nWord: '##க', Predicted Label: I-PER\nWord: '##ோ', Predicted Label: I-PER\nWord: '##ண்', Predicted Label: I-PER\nWord: ',', Predicted Label: O\nWord: 'ஜ', Predicted Label: B-PER\nWord: '##ான்', Predicted Label: I-PER\nWord: 'ஆ', Predicted Label: I-PER\nWord: '##பி', Predicted Label: I-PER\nWord: '##ர', Predicted Label: I-PER\nWord: '##கா', Predicted Label: I-PER\nWord: '##ம்', Predicted Label: I-PER\nWord: '(', Predicted Label: I-PER\nWord: 'ந', Predicted Label: I-PER\nWord: '##டி', Predicted Label: I-PER\nWord: '##கர்', Predicted Label: I-PER\nWord: ')', Predicted Label: I-PER\nWord: ',', Predicted Label: O\nWord: 'ஜ', Predicted Label: B-PER\nWord: '##ாக', Predicted Label: I-PER\nWord: '##்க', Predicted Label: I-PER\nWord: '##ு', Predicted Label: I-PER\nWord: '##லின்', Predicted Label: I-PER\nWord: 'ப', Predicted Label: I-PER\nWord: '##ெ', Predicted Label: I-PER\nWord: '##ர்', Predicted Label: I-PER\nWord: '##ன', Predicted Label: I-PER\nWord: '##ா', Predicted Label: I-PER\nWord: '##ண்ட', Predicted Label: I-PER\nWord: '##ஸ்', Predicted Label: I-PER\nWord: ',', Predicted Label: O\nWord: 'அ', Predicted Label: B-PER\nWord: '##னில்', Predicted Label: I-PER\nWord: 'க', Predicted Label: I-PER\nWord: '##பூர்', Predicted Label: I-PER\nWord: ',', Predicted Label: O\nWord: 'அ', Predicted Label: B-PER\nWord: '##ம', Predicted Label: I-PER\nWord: '##ீ', Predicted Label: I-PER\nWord: '##ஷ', Predicted Label: I-PER\nWord: '##ா', Predicted Label: I-PER\nWord: 'ப', Predicted Label: I-PER\nWord: '##ட்ட', Predicted Label: I-PER\nWord: '##ே', Predicted Label: I-PER\nWord: '##ல்', Predicted Label: I-PER\nWord: ',', Predicted Label: O\nWord: 'மற்றும்', Predicted Label: O\nWord: 'ர', Predicted Label: B-PER\nWord: '##ஜ', Predicted Label: I-PER\nWord: '##ி', Predicted Label: I-PER\nWord: '##னி', Predicted Label: I-PER\nWord: '##கா', Predicted Label: I-PER\nWord: '##ந்த', Predicted Label: I-PER\nWord: '##்', Predicted Label: I-PER\nWord: 'ஆகிய', Predicted Label: O\nWord: '##ோர்', Predicted Label: O\nWord: '.', Predicted Label: O\n",
          "output_type": "stream"
        }
      ],
      "execution_count": null
    },
    {
      "cell_type": "code",
      "source": [],
      "metadata": {
        "trusted": true,
        "id": "_ecN6i_PUvRq"
      },
      "outputs": [],
      "execution_count": null
    }
  ]
}