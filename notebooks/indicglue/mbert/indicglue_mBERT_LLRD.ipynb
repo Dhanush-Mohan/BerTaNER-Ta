{
  "metadata": {
    "kernelspec": {
      "name": "python3",
      "display_name": "Python 3",
      "language": "python"
    },
    "language_info": {
      "name": "python",
      "version": "3.11.11",
      "mimetype": "text/x-python",
      "codemirror_mode": {
        "name": "ipython",
        "version": 3
      },
      "pygments_lexer": "ipython3",
      "nbconvert_exporter": "python",
      "file_extension": ".py"
    },
    "colab": {
      "provenance": []
    },
    "widgets": {
      "application/vnd.jupyter.widget-state+json": {}
    },
    "kaggle": {
      "accelerator": "gpu",
      "dataSources": [],
      "dockerImageVersionId": 31041,
      "isInternetEnabled": true,
      "language": "python",
      "sourceType": "notebook",
      "isGpuEnabled": true
    }
  },
  "nbformat_minor": 0,
  "nbformat": 4,
  "cells": [
    {
      "cell_type": "code",
      "source": [
        "import tensorflow as tf\n",
        "\n",
        "device_name = tf.test.gpu_device_name()\n",
        "\n",
        "if \"GPU\" not in device_name:\n",
        "    print(\"GPU device not found\")\n",
        "else:\n",
        "    print(f'Found GPU at: {device_name}')\n",
        "\n",
        "# Alternative way to check\n",
        "print(\"GPU\", \"available (YESS!!!!)\" if tf.config.list_physical_devices(\"GPU\") else \"not available :(\")\n"
      ],
      "metadata": {
        "colab": {
          "base_uri": "https://localhost:8080/"
        },
        "id": "gno09MFugpke",
        "outputId": "79e7f578-6cd9-41b1-c7f7-14bfe1fa99dc",
        "execution": {
          "iopub.status.busy": "2025-05-18T16:34:43.497782Z",
          "iopub.execute_input": "2025-05-18T16:34:43.498008Z",
          "iopub.status.idle": "2025-05-18T16:34:58.951716Z",
          "shell.execute_reply.started": "2025-05-18T16:34:43.497983Z",
          "shell.execute_reply": "2025-05-18T16:34:58.950971Z"
        },
        "trusted": true
      },
      "outputs": [
        {
          "name": "stderr",
          "text": "2025-05-18 16:34:45.376429: E external/local_xla/xla/stream_executor/cuda/cuda_fft.cc:477] Unable to register cuFFT factory: Attempting to register factory for plugin cuFFT when one has already been registered\nWARNING: All log messages before absl::InitializeLog() is called are written to STDERR\nE0000 00:00:1747586085.593683      35 cuda_dnn.cc:8310] Unable to register cuDNN factory: Attempting to register factory for plugin cuDNN when one has already been registered\nE0000 00:00:1747586085.658406      35 cuda_blas.cc:1418] Unable to register cuBLAS factory: Attempting to register factory for plugin cuBLAS when one has already been registered\n",
          "output_type": "stream"
        },
        {
          "name": "stdout",
          "text": "Found GPU at: /device:GPU:0\nGPU available (YESS!!!!)\n",
          "output_type": "stream"
        },
        {
          "name": "stderr",
          "text": "I0000 00:00:1747586098.947061      35 gpu_device.cc:2022] Created device /device:GPU:0 with 15513 MB memory:  -> device: 0, name: Tesla P100-PCIE-16GB, pci bus id: 0000:00:04.0, compute capability: 6.0\n",
          "output_type": "stream"
        }
      ],
      "execution_count": null
    },
    {
      "cell_type": "code",
      "source": [
        "!pip install tensorflow-addons"
      ],
      "metadata": {
        "execution": {
          "iopub.status.busy": "2025-05-18T16:36:00.896806Z",
          "iopub.execute_input": "2025-05-18T16:36:00.897085Z",
          "iopub.status.idle": "2025-05-18T16:36:05.626937Z",
          "shell.execute_reply.started": "2025-05-18T16:36:00.897064Z",
          "shell.execute_reply": "2025-05-18T16:36:05.626227Z"
        },
        "trusted": true,
        "id": "vkOraf_hefvc",
        "outputId": "d1f0cb7a-875c-4f8f-ef34-3ca4adcfece0"
      },
      "outputs": [
        {
          "name": "stdout",
          "text": "Collecting tensorflow-addons\n  Downloading tensorflow_addons-0.23.0-cp311-cp311-manylinux_2_17_x86_64.manylinux2014_x86_64.whl.metadata (1.8 kB)\nRequirement already satisfied: packaging in /usr/local/lib/python3.11/dist-packages (from tensorflow-addons) (25.0)\nCollecting typeguard<3.0.0,>=2.7 (from tensorflow-addons)\n  Downloading typeguard-2.13.3-py3-none-any.whl.metadata (3.6 kB)\nDownloading tensorflow_addons-0.23.0-cp311-cp311-manylinux_2_17_x86_64.manylinux2014_x86_64.whl (611 kB)\n\u001b[2K   \u001b[90m━━━━━━━━━━━━━━━━━━━━━━━━━━━━━━━━━━━━━━━━\u001b[0m \u001b[32m611.8/611.8 kB\u001b[0m \u001b[31m16.9 MB/s\u001b[0m eta \u001b[36m0:00:00\u001b[0m00:01\u001b[0m\n\u001b[?25hDownloading typeguard-2.13.3-py3-none-any.whl (17 kB)\nInstalling collected packages: typeguard, tensorflow-addons\n  Attempting uninstall: typeguard\n    Found existing installation: typeguard 4.4.2\n    Uninstalling typeguard-4.4.2:\n      Successfully uninstalled typeguard-4.4.2\n\u001b[31mERROR: pip's dependency resolver does not currently take into account all the packages that are installed. This behaviour is the source of the following dependency conflicts.\nydata-profiling 4.16.1 requires typeguard<5,>=3, but you have typeguard 2.13.3 which is incompatible.\ninflect 7.5.0 requires typeguard>=4.0.1, but you have typeguard 2.13.3 which is incompatible.\u001b[0m\u001b[31m\n\u001b[0mSuccessfully installed tensorflow-addons-0.23.0 typeguard-2.13.3\n",
          "output_type": "stream"
        }
      ],
      "execution_count": null
    },
    {
      "cell_type": "code",
      "source": [
        "!pip install transformers"
      ],
      "metadata": {
        "colab": {
          "base_uri": "https://localhost:8080/"
        },
        "id": "o3TqB_BBgNjJ",
        "outputId": "4a0490a6-5b1e-48fc-b949-0b5cb667fb4e",
        "execution": {
          "iopub.status.busy": "2025-05-18T16:36:08.146572Z",
          "iopub.execute_input": "2025-05-18T16:36:08.146853Z",
          "iopub.status.idle": "2025-05-18T16:36:11.168867Z",
          "shell.execute_reply.started": "2025-05-18T16:36:08.146827Z",
          "shell.execute_reply": "2025-05-18T16:36:11.168118Z"
        },
        "trusted": true
      },
      "outputs": [
        {
          "name": "stdout",
          "text": "Requirement already satisfied: transformers in /usr/local/lib/python3.11/dist-packages (4.51.3)\nRequirement already satisfied: filelock in /usr/local/lib/python3.11/dist-packages (from transformers) (3.18.0)\nRequirement already satisfied: huggingface-hub<1.0,>=0.30.0 in /usr/local/lib/python3.11/dist-packages (from transformers) (0.31.1)\nRequirement already satisfied: numpy>=1.17 in /usr/local/lib/python3.11/dist-packages (from transformers) (1.26.4)\nRequirement already satisfied: packaging>=20.0 in /usr/local/lib/python3.11/dist-packages (from transformers) (25.0)\nRequirement already satisfied: pyyaml>=5.1 in /usr/local/lib/python3.11/dist-packages (from transformers) (6.0.2)\nRequirement already satisfied: regex!=2019.12.17 in /usr/local/lib/python3.11/dist-packages (from transformers) (2024.11.6)\nRequirement already satisfied: requests in /usr/local/lib/python3.11/dist-packages (from transformers) (2.32.3)\nRequirement already satisfied: tokenizers<0.22,>=0.21 in /usr/local/lib/python3.11/dist-packages (from transformers) (0.21.1)\nRequirement already satisfied: safetensors>=0.4.3 in /usr/local/lib/python3.11/dist-packages (from transformers) (0.5.3)\nRequirement already satisfied: tqdm>=4.27 in /usr/local/lib/python3.11/dist-packages (from transformers) (4.67.1)\nRequirement already satisfied: fsspec>=2023.5.0 in /usr/local/lib/python3.11/dist-packages (from huggingface-hub<1.0,>=0.30.0->transformers) (2025.3.2)\nRequirement already satisfied: typing-extensions>=3.7.4.3 in /usr/local/lib/python3.11/dist-packages (from huggingface-hub<1.0,>=0.30.0->transformers) (4.13.2)\nRequirement already satisfied: hf-xet<2.0.0,>=1.1.0 in /usr/local/lib/python3.11/dist-packages (from huggingface-hub<1.0,>=0.30.0->transformers) (1.1.0)\nRequirement already satisfied: mkl_fft in /usr/local/lib/python3.11/dist-packages (from numpy>=1.17->transformers) (1.3.8)\nRequirement already satisfied: mkl_random in /usr/local/lib/python3.11/dist-packages (from numpy>=1.17->transformers) (1.2.4)\nRequirement already satisfied: mkl_umath in /usr/local/lib/python3.11/dist-packages (from numpy>=1.17->transformers) (0.1.1)\nRequirement already satisfied: mkl in /usr/local/lib/python3.11/dist-packages (from numpy>=1.17->transformers) (2025.1.0)\nRequirement already satisfied: tbb4py in /usr/local/lib/python3.11/dist-packages (from numpy>=1.17->transformers) (2022.1.0)\nRequirement already satisfied: mkl-service in /usr/local/lib/python3.11/dist-packages (from numpy>=1.17->transformers) (2.4.1)\nRequirement already satisfied: charset-normalizer<4,>=2 in /usr/local/lib/python3.11/dist-packages (from requests->transformers) (3.4.2)\nRequirement already satisfied: idna<4,>=2.5 in /usr/local/lib/python3.11/dist-packages (from requests->transformers) (3.10)\nRequirement already satisfied: urllib3<3,>=1.21.1 in /usr/local/lib/python3.11/dist-packages (from requests->transformers) (2.4.0)\nRequirement already satisfied: certifi>=2017.4.17 in /usr/local/lib/python3.11/dist-packages (from requests->transformers) (2025.4.26)\nRequirement already satisfied: intel-openmp<2026,>=2024 in /usr/local/lib/python3.11/dist-packages (from mkl->numpy>=1.17->transformers) (2024.2.0)\nRequirement already satisfied: tbb==2022.* in /usr/local/lib/python3.11/dist-packages (from mkl->numpy>=1.17->transformers) (2022.1.0)\nRequirement already satisfied: tcmlib==1.* in /usr/local/lib/python3.11/dist-packages (from tbb==2022.*->mkl->numpy>=1.17->transformers) (1.3.0)\nRequirement already satisfied: intel-cmplr-lib-rt in /usr/local/lib/python3.11/dist-packages (from mkl_umath->numpy>=1.17->transformers) (2024.2.0)\nRequirement already satisfied: intel-cmplr-lib-ur==2024.2.0 in /usr/local/lib/python3.11/dist-packages (from intel-openmp<2026,>=2024->mkl->numpy>=1.17->transformers) (2024.2.0)\n",
          "output_type": "stream"
        }
      ],
      "execution_count": null
    },
    {
      "cell_type": "markdown",
      "source": [
        "# **PART 2**"
      ],
      "metadata": {
        "id": "rKpOBjc_xcEd"
      }
    },
    {
      "cell_type": "code",
      "source": [
        "!pip install datasets"
      ],
      "metadata": {
        "colab": {
          "base_uri": "https://localhost:8080/"
        },
        "id": "zjDohysWx4ph",
        "outputId": "4475778d-4d2b-4f65-f599-c5868b261024",
        "execution": {
          "iopub.status.busy": "2025-05-18T16:36:13.529148Z",
          "iopub.execute_input": "2025-05-18T16:36:13.529463Z",
          "iopub.status.idle": "2025-05-18T16:36:17.178112Z",
          "shell.execute_reply.started": "2025-05-18T16:36:13.529434Z",
          "shell.execute_reply": "2025-05-18T16:36:17.177199Z"
        },
        "trusted": true
      },
      "outputs": [
        {
          "name": "stdout",
          "text": "Requirement already satisfied: datasets in /usr/local/lib/python3.11/dist-packages (3.6.0)\nRequirement already satisfied: filelock in /usr/local/lib/python3.11/dist-packages (from datasets) (3.18.0)\nRequirement already satisfied: numpy>=1.17 in /usr/local/lib/python3.11/dist-packages (from datasets) (1.26.4)\nRequirement already satisfied: pyarrow>=15.0.0 in /usr/local/lib/python3.11/dist-packages (from datasets) (19.0.1)\nRequirement already satisfied: dill<0.3.9,>=0.3.0 in /usr/local/lib/python3.11/dist-packages (from datasets) (0.3.8)\nRequirement already satisfied: pandas in /usr/local/lib/python3.11/dist-packages (from datasets) (2.2.3)\nRequirement already satisfied: requests>=2.32.2 in /usr/local/lib/python3.11/dist-packages (from datasets) (2.32.3)\nRequirement already satisfied: tqdm>=4.66.3 in /usr/local/lib/python3.11/dist-packages (from datasets) (4.67.1)\nRequirement already satisfied: xxhash in /usr/local/lib/python3.11/dist-packages (from datasets) (3.5.0)\nRequirement already satisfied: multiprocess<0.70.17 in /usr/local/lib/python3.11/dist-packages (from datasets) (0.70.16)\nCollecting fsspec<=2025.3.0,>=2023.1.0 (from fsspec[http]<=2025.3.0,>=2023.1.0->datasets)\n  Downloading fsspec-2025.3.0-py3-none-any.whl.metadata (11 kB)\nRequirement already satisfied: huggingface-hub>=0.24.0 in /usr/local/lib/python3.11/dist-packages (from datasets) (0.31.1)\nRequirement already satisfied: packaging in /usr/local/lib/python3.11/dist-packages (from datasets) (25.0)\nRequirement already satisfied: pyyaml>=5.1 in /usr/local/lib/python3.11/dist-packages (from datasets) (6.0.2)\nRequirement already satisfied: aiohttp!=4.0.0a0,!=4.0.0a1 in /usr/local/lib/python3.11/dist-packages (from fsspec[http]<=2025.3.0,>=2023.1.0->datasets) (3.11.18)\nRequirement already satisfied: typing-extensions>=3.7.4.3 in /usr/local/lib/python3.11/dist-packages (from huggingface-hub>=0.24.0->datasets) (4.13.2)\nRequirement already satisfied: hf-xet<2.0.0,>=1.1.0 in /usr/local/lib/python3.11/dist-packages (from huggingface-hub>=0.24.0->datasets) (1.1.0)\nRequirement already satisfied: mkl_fft in /usr/local/lib/python3.11/dist-packages (from numpy>=1.17->datasets) (1.3.8)\nRequirement already satisfied: mkl_random in /usr/local/lib/python3.11/dist-packages (from numpy>=1.17->datasets) (1.2.4)\nRequirement already satisfied: mkl_umath in /usr/local/lib/python3.11/dist-packages (from numpy>=1.17->datasets) (0.1.1)\nRequirement already satisfied: mkl in /usr/local/lib/python3.11/dist-packages (from numpy>=1.17->datasets) (2025.1.0)\nRequirement already satisfied: tbb4py in /usr/local/lib/python3.11/dist-packages (from numpy>=1.17->datasets) (2022.1.0)\nRequirement already satisfied: mkl-service in /usr/local/lib/python3.11/dist-packages (from numpy>=1.17->datasets) (2.4.1)\nRequirement already satisfied: charset-normalizer<4,>=2 in /usr/local/lib/python3.11/dist-packages (from requests>=2.32.2->datasets) (3.4.2)\nRequirement already satisfied: idna<4,>=2.5 in /usr/local/lib/python3.11/dist-packages (from requests>=2.32.2->datasets) (3.10)\nRequirement already satisfied: urllib3<3,>=1.21.1 in /usr/local/lib/python3.11/dist-packages (from requests>=2.32.2->datasets) (2.4.0)\nRequirement already satisfied: certifi>=2017.4.17 in /usr/local/lib/python3.11/dist-packages (from requests>=2.32.2->datasets) (2025.4.26)\nRequirement already satisfied: python-dateutil>=2.8.2 in /usr/local/lib/python3.11/dist-packages (from pandas->datasets) (2.9.0.post0)\nRequirement already satisfied: pytz>=2020.1 in /usr/local/lib/python3.11/dist-packages (from pandas->datasets) (2025.2)\nRequirement already satisfied: tzdata>=2022.7 in /usr/local/lib/python3.11/dist-packages (from pandas->datasets) (2025.2)\nRequirement already satisfied: aiohappyeyeballs>=2.3.0 in /usr/local/lib/python3.11/dist-packages (from aiohttp!=4.0.0a0,!=4.0.0a1->fsspec[http]<=2025.3.0,>=2023.1.0->datasets) (2.6.1)\nRequirement already satisfied: aiosignal>=1.1.2 in /usr/local/lib/python3.11/dist-packages (from aiohttp!=4.0.0a0,!=4.0.0a1->fsspec[http]<=2025.3.0,>=2023.1.0->datasets) (1.3.2)\nRequirement already satisfied: attrs>=17.3.0 in /usr/local/lib/python3.11/dist-packages (from aiohttp!=4.0.0a0,!=4.0.0a1->fsspec[http]<=2025.3.0,>=2023.1.0->datasets) (25.3.0)\nRequirement already satisfied: frozenlist>=1.1.1 in /usr/local/lib/python3.11/dist-packages (from aiohttp!=4.0.0a0,!=4.0.0a1->fsspec[http]<=2025.3.0,>=2023.1.0->datasets) (1.6.0)\nRequirement already satisfied: multidict<7.0,>=4.5 in /usr/local/lib/python3.11/dist-packages (from aiohttp!=4.0.0a0,!=4.0.0a1->fsspec[http]<=2025.3.0,>=2023.1.0->datasets) (6.4.3)\nRequirement already satisfied: propcache>=0.2.0 in /usr/local/lib/python3.11/dist-packages (from aiohttp!=4.0.0a0,!=4.0.0a1->fsspec[http]<=2025.3.0,>=2023.1.0->datasets) (0.3.1)\nRequirement already satisfied: yarl<2.0,>=1.17.0 in /usr/local/lib/python3.11/dist-packages (from aiohttp!=4.0.0a0,!=4.0.0a1->fsspec[http]<=2025.3.0,>=2023.1.0->datasets) (1.20.0)\nRequirement already satisfied: six>=1.5 in /usr/local/lib/python3.11/dist-packages (from python-dateutil>=2.8.2->pandas->datasets) (1.17.0)\nRequirement already satisfied: intel-openmp<2026,>=2024 in /usr/local/lib/python3.11/dist-packages (from mkl->numpy>=1.17->datasets) (2024.2.0)\nRequirement already satisfied: tbb==2022.* in /usr/local/lib/python3.11/dist-packages (from mkl->numpy>=1.17->datasets) (2022.1.0)\nRequirement already satisfied: tcmlib==1.* in /usr/local/lib/python3.11/dist-packages (from tbb==2022.*->mkl->numpy>=1.17->datasets) (1.3.0)\nRequirement already satisfied: intel-cmplr-lib-rt in /usr/local/lib/python3.11/dist-packages (from mkl_umath->numpy>=1.17->datasets) (2024.2.0)\nRequirement already satisfied: intel-cmplr-lib-ur==2024.2.0 in /usr/local/lib/python3.11/dist-packages (from intel-openmp<2026,>=2024->mkl->numpy>=1.17->datasets) (2024.2.0)\nDownloading fsspec-2025.3.0-py3-none-any.whl (193 kB)\n\u001b[2K   \u001b[90m━━━━━━━━━━━━━━━━━━━━━━━━━━━━━━━━━━━━━━━━\u001b[0m \u001b[32m193.6/193.6 kB\u001b[0m \u001b[31m8.0 MB/s\u001b[0m eta \u001b[36m0:00:00\u001b[0m\n\u001b[?25hInstalling collected packages: fsspec\n  Attempting uninstall: fsspec\n    Found existing installation: fsspec 2025.3.2\n    Uninstalling fsspec-2025.3.2:\n      Successfully uninstalled fsspec-2025.3.2\n\u001b[31mERROR: pip's dependency resolver does not currently take into account all the packages that are installed. This behaviour is the source of the following dependency conflicts.\ncesium 0.12.4 requires numpy<3.0,>=2.0, but you have numpy 1.26.4 which is incompatible.\nbigframes 1.42.0 requires rich<14,>=12.4.4, but you have rich 14.0.0 which is incompatible.\ntorch 2.6.0+cu124 requires nvidia-cublas-cu12==12.4.5.8; platform_system == \"Linux\" and platform_machine == \"x86_64\", but you have nvidia-cublas-cu12 12.9.0.13 which is incompatible.\ntorch 2.6.0+cu124 requires nvidia-cudnn-cu12==9.1.0.70; platform_system == \"Linux\" and platform_machine == \"x86_64\", but you have nvidia-cudnn-cu12 9.3.0.75 which is incompatible.\ntorch 2.6.0+cu124 requires nvidia-cufft-cu12==11.2.1.3; platform_system == \"Linux\" and platform_machine == \"x86_64\", but you have nvidia-cufft-cu12 11.4.0.6 which is incompatible.\ntorch 2.6.0+cu124 requires nvidia-curand-cu12==10.3.5.147; platform_system == \"Linux\" and platform_machine == \"x86_64\", but you have nvidia-curand-cu12 10.3.10.19 which is incompatible.\ntorch 2.6.0+cu124 requires nvidia-cusolver-cu12==11.6.1.9; platform_system == \"Linux\" and platform_machine == \"x86_64\", but you have nvidia-cusolver-cu12 11.7.4.40 which is incompatible.\ntorch 2.6.0+cu124 requires nvidia-cusparse-cu12==12.3.1.170; platform_system == \"Linux\" and platform_machine == \"x86_64\", but you have nvidia-cusparse-cu12 12.5.9.5 which is incompatible.\ntorch 2.6.0+cu124 requires nvidia-nvjitlink-cu12==12.4.127; platform_system == \"Linux\" and platform_machine == \"x86_64\", but you have nvidia-nvjitlink-cu12 12.9.41 which is incompatible.\ngcsfs 2025.3.2 requires fsspec==2025.3.2, but you have fsspec 2025.3.0 which is incompatible.\u001b[0m\u001b[31m\n\u001b[0mSuccessfully installed fsspec-2025.3.0\n",
          "output_type": "stream"
        }
      ],
      "execution_count": null
    },
    {
      "cell_type": "code",
      "source": [
        "from datasets import load_dataset\n",
        "from transformers import AutoTokenizer, AutoModelForTokenClassification, TrainingArguments, Trainer\n",
        "from transformers import DataCollatorForTokenClassification\n",
        "import numpy as np\n",
        "from sklearn.metrics import classification_report\n",
        "import torch\n",
        "\n",
        "from transformers import AutoTokenizer\n",
        "\n",
        "# Load the tokenizer\n",
        "tokenizer = AutoTokenizer.from_pretrained(\"google-bert/bert-base-multilingual-cased\")\n",
        "\n",
        "from datasets import load_dataset\n",
        "\n",
        "# Load the Tamil NER dataset\n",
        "dataset = load_dataset(\"ai4bharat/indic_glue\", \"wiki-ner.ta\")\n",
        "train_data = dataset['train']\n",
        "validation_data = dataset['validation']\n",
        "test_data = dataset['test']"
      ],
      "metadata": {
        "id": "RHO-CjgfxZ1P",
        "execution": {
          "iopub.status.busy": "2025-05-18T16:37:25.949560Z",
          "iopub.execute_input": "2025-05-18T16:37:25.950202Z",
          "iopub.status.idle": "2025-05-18T16:37:28.047886Z",
          "shell.execute_reply.started": "2025-05-18T16:37:25.950176Z",
          "shell.execute_reply": "2025-05-18T16:37:28.047153Z"
        },
        "trusted": true
      },
      "outputs": [],
      "execution_count": null
    },
    {
      "cell_type": "code",
      "source": [
        "# Preprocessing the dataset to align NER tags with tokens\n",
        "label_list = [\"O\", \"B-PER\", \"I-PER\", \"B-ORG\", \"I-ORG\", \"B-LOC\", \"I-LOC\"]\n",
        "\n",
        "def align_labels_with_tokens(labels, word_ids):\n",
        "    new_labels = []\n",
        "    previous_word_id = None\n",
        "    for word_id in word_ids:\n",
        "        if word_id is None:\n",
        "            new_labels.append(-100)  # Ignore these tokens in the loss\n",
        "        elif word_id != previous_word_id:\n",
        "            new_labels.append(labels[word_id])  # Only label first token of the word\n",
        "        else:\n",
        "            # Continue with I- tags for inner tokens, otherwise ignore\n",
        "            new_labels.append(labels[word_id] if label_list[labels[word_id]].startswith(\"I-\") else -100)\n",
        "        previous_word_id = word_id\n",
        "    return new_labels\n",
        "\n",
        "\n",
        "def preprocess_data(batch):\n",
        "    tokenized_inputs = tokenizer(batch[\"tokens\"], truncation=True, is_split_into_words=True, padding=\"max_length\", max_length=128)\n",
        "    all_word_ids = [tokenized_inputs.word_ids(i) for i in range(len(batch[\"tokens\"]))]\n",
        "\n",
        "    # Align labels with word ids for each example in the batch\n",
        "    all_aligned_labels = [\n",
        "        align_labels_with_tokens(labels, word_ids) for labels, word_ids in zip(batch[\"ner_tags\"], all_word_ids)\n",
        "    ]\n",
        "\n",
        "    # Add aligned labels to tokenized inputs\n",
        "    tokenized_inputs[\"labels\"] = all_aligned_labels\n",
        "    return tokenized_inputs\n",
        "\n",
        "\n",
        "train_dataset = train_data.map(preprocess_data, batched=True)\n",
        "validation_dataset = validation_data.map(preprocess_data, batched=True)\n",
        "test_dataset = test_data.map(preprocess_data, batched=True)\n",
        "\n"
      ],
      "metadata": {
        "id": "mrH9PAtsxin7",
        "execution": {
          "iopub.status.busy": "2025-05-18T16:37:29.905943Z",
          "iopub.execute_input": "2025-05-18T16:37:29.906239Z",
          "iopub.status.idle": "2025-05-18T16:37:34.607926Z",
          "shell.execute_reply.started": "2025-05-18T16:37:29.906218Z",
          "shell.execute_reply": "2025-05-18T16:37:34.607114Z"
        },
        "trusted": true,
        "outputId": "ae2c2666-2e3d-4d41-ea6f-2783113ff51a",
        "colab": {
          "referenced_widgets": [
            "5a58943ba9de4c1cb0761ea4b4584a37",
            "dc225fe843e74e65a869b84fd83b7e48",
            "5db2619653a04e8b97a742c2bf1b582f"
          ]
        }
      },
      "outputs": [
        {
          "output_type": "display_data",
          "data": {
            "text/plain": "Map:   0%|          | 0/20466 [00:00<?, ? examples/s]",
            "application/vnd.jupyter.widget-view+json": {
              "version_major": 2,
              "version_minor": 0,
              "model_id": "5a58943ba9de4c1cb0761ea4b4584a37"
            }
          },
          "metadata": {}
        },
        {
          "output_type": "display_data",
          "data": {
            "text/plain": "Map:   0%|          | 0/2586 [00:00<?, ? examples/s]",
            "application/vnd.jupyter.widget-view+json": {
              "version_major": 2,
              "version_minor": 0,
              "model_id": "dc225fe843e74e65a869b84fd83b7e48"
            }
          },
          "metadata": {}
        },
        {
          "output_type": "display_data",
          "data": {
            "text/plain": "Map:   0%|          | 0/2611 [00:00<?, ? examples/s]",
            "application/vnd.jupyter.widget-view+json": {
              "version_major": 2,
              "version_minor": 0,
              "model_id": "5db2619653a04e8b97a742c2bf1b582f"
            }
          },
          "metadata": {}
        }
      ],
      "execution_count": null
    },
    {
      "cell_type": "code",
      "source": [
        "from transformers import AutoModelForTokenClassification, TrainingArguments, Trainer\n",
        "\n",
        "# Load the model with more capacity for multilingual tasks\n",
        "model = AutoModelForTokenClassification.from_pretrained(\"google-bert/bert-base-multilingual-cased\", num_labels=dataset['train'].features['ner_tags'].feature.num_classes)\n"
      ],
      "metadata": {
        "execution": {
          "iopub.status.busy": "2025-05-18T16:37:37.922279Z",
          "iopub.execute_input": "2025-05-18T16:37:37.923005Z",
          "iopub.status.idle": "2025-05-18T16:37:41.830238Z",
          "shell.execute_reply.started": "2025-05-18T16:37:37.922984Z",
          "shell.execute_reply": "2025-05-18T16:37:41.829514Z"
        },
        "trusted": true,
        "id": "zUnpijIeefve",
        "outputId": "38da4232-18d7-4d31-d3c2-a59d104da8c8",
        "colab": {
          "referenced_widgets": [
            "bb142e5c1f774b75bb9815ec292ff29e"
          ]
        }
      },
      "outputs": [
        {
          "output_type": "display_data",
          "data": {
            "text/plain": "model.safetensors:   0%|          | 0.00/714M [00:00<?, ?B/s]",
            "application/vnd.jupyter.widget-view+json": {
              "version_major": 2,
              "version_minor": 0,
              "model_id": "bb142e5c1f774b75bb9815ec292ff29e"
            }
          },
          "metadata": {}
        },
        {
          "name": "stderr",
          "text": "Some weights of BertForTokenClassification were not initialized from the model checkpoint at google-bert/bert-base-multilingual-cased and are newly initialized: ['classifier.bias', 'classifier.weight']\nYou should probably TRAIN this model on a down-stream task to be able to use it for predictions and inference.\n",
          "output_type": "stream"
        }
      ],
      "execution_count": null
    },
    {
      "cell_type": "code",
      "source": [
        "!pip install seqeval\n"
      ],
      "metadata": {
        "execution": {
          "iopub.status.busy": "2025-05-18T16:37:44.929339Z",
          "iopub.execute_input": "2025-05-18T16:37:44.929615Z",
          "iopub.status.idle": "2025-05-18T16:37:50.732242Z",
          "shell.execute_reply.started": "2025-05-18T16:37:44.929595Z",
          "shell.execute_reply": "2025-05-18T16:37:50.731521Z"
        },
        "trusted": true,
        "id": "2-6Ojlcdefve",
        "outputId": "b88e8c86-8fd4-47f0-8f64-0f7dc0a75d7f"
      },
      "outputs": [
        {
          "name": "stderr",
          "text": "huggingface/tokenizers: The current process just got forked, after parallelism has already been used. Disabling parallelism to avoid deadlocks...\nTo disable this warning, you can either:\n\t- Avoid using `tokenizers` before the fork if possible\n\t- Explicitly set the environment variable TOKENIZERS_PARALLELISM=(true | false)\n",
          "output_type": "stream"
        },
        {
          "name": "stdout",
          "text": "Collecting seqeval\n  Downloading seqeval-1.2.2.tar.gz (43 kB)\n\u001b[2K     \u001b[90m━━━━━━━━━━━━━━━━━━━━━━━━━━━━━━━━━━━━━━━━\u001b[0m \u001b[32m43.6/43.6 kB\u001b[0m \u001b[31m2.7 MB/s\u001b[0m eta \u001b[36m0:00:00\u001b[0m\n\u001b[?25h  Preparing metadata (setup.py) ... \u001b[?25l\u001b[?25hdone\nRequirement already satisfied: numpy>=1.14.0 in /usr/local/lib/python3.11/dist-packages (from seqeval) (1.26.4)\nRequirement already satisfied: scikit-learn>=0.21.3 in /usr/local/lib/python3.11/dist-packages (from seqeval) (1.2.2)\nRequirement already satisfied: mkl_fft in /usr/local/lib/python3.11/dist-packages (from numpy>=1.14.0->seqeval) (1.3.8)\nRequirement already satisfied: mkl_random in /usr/local/lib/python3.11/dist-packages (from numpy>=1.14.0->seqeval) (1.2.4)\nRequirement already satisfied: mkl_umath in /usr/local/lib/python3.11/dist-packages (from numpy>=1.14.0->seqeval) (0.1.1)\nRequirement already satisfied: mkl in /usr/local/lib/python3.11/dist-packages (from numpy>=1.14.0->seqeval) (2025.1.0)\nRequirement already satisfied: tbb4py in /usr/local/lib/python3.11/dist-packages (from numpy>=1.14.0->seqeval) (2022.1.0)\nRequirement already satisfied: mkl-service in /usr/local/lib/python3.11/dist-packages (from numpy>=1.14.0->seqeval) (2.4.1)\nRequirement already satisfied: scipy>=1.3.2 in /usr/local/lib/python3.11/dist-packages (from scikit-learn>=0.21.3->seqeval) (1.15.2)\nRequirement already satisfied: joblib>=1.1.1 in /usr/local/lib/python3.11/dist-packages (from scikit-learn>=0.21.3->seqeval) (1.5.0)\nRequirement already satisfied: threadpoolctl>=2.0.0 in /usr/local/lib/python3.11/dist-packages (from scikit-learn>=0.21.3->seqeval) (3.6.0)\nRequirement already satisfied: intel-openmp<2026,>=2024 in /usr/local/lib/python3.11/dist-packages (from mkl->numpy>=1.14.0->seqeval) (2024.2.0)\nRequirement already satisfied: tbb==2022.* in /usr/local/lib/python3.11/dist-packages (from mkl->numpy>=1.14.0->seqeval) (2022.1.0)\nRequirement already satisfied: tcmlib==1.* in /usr/local/lib/python3.11/dist-packages (from tbb==2022.*->mkl->numpy>=1.14.0->seqeval) (1.3.0)\nRequirement already satisfied: intel-cmplr-lib-rt in /usr/local/lib/python3.11/dist-packages (from mkl_umath->numpy>=1.14.0->seqeval) (2024.2.0)\nRequirement already satisfied: intel-cmplr-lib-ur==2024.2.0 in /usr/local/lib/python3.11/dist-packages (from intel-openmp<2026,>=2024->mkl->numpy>=1.14.0->seqeval) (2024.2.0)\nBuilding wheels for collected packages: seqeval\n  Building wheel for seqeval (setup.py) ... \u001b[?25l\u001b[?25hdone\n  Created wheel for seqeval: filename=seqeval-1.2.2-py3-none-any.whl size=16162 sha256=5bf9ebc58de087dc67d8ce2c70836a02340173f33ec620ebccd82abc9c54ee44\n  Stored in directory: /root/.cache/pip/wheels/bc/92/f0/243288f899c2eacdfa8c5f9aede4c71a9bad0ee26a01dc5ead\nSuccessfully built seqeval\nInstalling collected packages: seqeval\nSuccessfully installed seqeval-1.2.2\n",
          "output_type": "stream"
        }
      ],
      "execution_count": null
    },
    {
      "cell_type": "code",
      "source": [
        "from seqeval.metrics import classification_report, f1_score, accuracy_score, precision_score, recall_score\n",
        "import numpy as np\n",
        "\n",
        "# Define compute_metrics function\n",
        "def compute_metrics(pred):\n",
        "    label_ids = pred.label_ids\n",
        "    predictions = pred.predictions.argmax(-1)\n",
        "\n",
        "    # Remove ignored index (special tokens)\n",
        "    true_labels = [[label_list[label_id] for (label_id, pred_id) in zip(label_ids[i], predictions[i]) if label_id != -100]\n",
        "                   for i in range(len(label_ids))]\n",
        "    true_predictions = [[label_list[pred_id] for (label_id, pred_id) in zip(label_ids[i], predictions[i]) if label_id != -100]\n",
        "                        for i in range(len(predictions))]\n",
        "\n",
        "    # Calculate metrics using seqeval\n",
        "    precision = precision_score(true_labels, true_predictions)\n",
        "    recall = recall_score(true_labels, true_predictions)\n",
        "    f1 = f1_score(true_labels, true_predictions)\n",
        "    accuracy = accuracy_score(true_labels, true_predictions)\n",
        "\n",
        "    return {\n",
        "        \"accuracy\": accuracy,\n",
        "        \"precision\": precision,\n",
        "        \"recall\": recall,\n",
        "        \"f1\": f1\n",
        "    }\n",
        "\n",
        "training_args = TrainingArguments(\n",
        "    output_dir=\"./results\",\n",
        "    eval_strategy=\"epoch\",\n",
        "    save_strategy=\"no\",\n",
        "    learning_rate=2e-5,\n",
        "    per_device_train_batch_size=8,\n",
        "    per_device_eval_batch_size=8,\n",
        "    num_train_epochs=3,\n",
        "    weight_decay=0.01,\n",
        "    report_to=\"none\"\n",
        ")\n",
        "\n",
        "# Update Trainer to include the compute_metrics function\n",
        "trainer = Trainer(\n",
        "    model=model,\n",
        "    args=training_args,\n",
        "    train_dataset=train_dataset,\n",
        "    eval_dataset=validation_dataset,\n",
        "    tokenizer=tokenizer,\n",
        "    compute_metrics=compute_metrics\n",
        ")\n",
        "\n",
        "import pandas as pd\n",
        "from transformers import Trainer, TrainingArguments\n",
        "\n",
        "# Run evaluation on test dataset\n",
        "metrics = trainer.evaluate(test_dataset)\n",
        "\n",
        "# Convert metrics to DataFrame\n",
        "metrics_df = pd.DataFrame([metrics])\n",
        "\n",
        "# Display the DataFrame\n",
        "print(metrics_df)\n",
        "\n"
      ],
      "metadata": {
        "execution": {
          "iopub.status.busy": "2025-05-18T16:38:20.343907Z",
          "iopub.execute_input": "2025-05-18T16:38:20.344642Z",
          "iopub.status.idle": "2025-05-18T16:38:31.723058Z",
          "shell.execute_reply.started": "2025-05-18T16:38:20.344618Z",
          "shell.execute_reply": "2025-05-18T16:38:31.722280Z"
        },
        "trusted": true,
        "id": "2jM4aM98efvf",
        "outputId": "1aab9c05-025a-4d9c-8f1d-c606f8a4eb89"
      },
      "outputs": [
        {
          "name": "stderr",
          "text": "/tmp/ipykernel_35/1315381389.py:41: FutureWarning: `tokenizer` is deprecated and will be removed in version 5.0.0 for `Trainer.__init__`. Use `processing_class` instead.\n  trainer = Trainer(\n",
          "output_type": "stream"
        },
        {
          "output_type": "display_data",
          "data": {
            "text/plain": "<IPython.core.display.HTML object>",
            "text/html": "\n    <div>\n      \n      <progress value='327' max='327' style='width:300px; height:20px; vertical-align: middle;'></progress>\n      [327/327 00:10]\n    </div>\n    "
          },
          "metadata": {}
        },
        {
          "name": "stdout",
          "text": "   eval_loss  eval_model_preparation_time  eval_accuracy  eval_precision  \\\n0     1.7717                       0.0028       0.406198        0.028322   \n\n   eval_recall   eval_f1  eval_runtime  eval_samples_per_second  \\\n0     0.056968  0.037834       11.3318                  230.413   \n\n   eval_steps_per_second  \n0                 28.857  \n",
          "output_type": "stream"
        }
      ],
      "execution_count": null
    },
    {
      "cell_type": "code",
      "source": [
        "metrics_df"
      ],
      "metadata": {
        "execution": {
          "iopub.status.busy": "2025-05-18T16:38:34.371871Z",
          "iopub.execute_input": "2025-05-18T16:38:34.372159Z",
          "iopub.status.idle": "2025-05-18T16:38:34.388529Z",
          "shell.execute_reply.started": "2025-05-18T16:38:34.372121Z",
          "shell.execute_reply": "2025-05-18T16:38:34.387871Z"
        },
        "trusted": true,
        "id": "o_ylfSpVefvf",
        "outputId": "e24112e6-ee90-4502-c4ce-d704d1bd6cfe"
      },
      "outputs": [
        {
          "execution_count": 13,
          "output_type": "execute_result",
          "data": {
            "text/plain": "   eval_loss  eval_model_preparation_time  eval_accuracy  eval_precision  \\\n0     1.7717                       0.0028       0.406198        0.028322   \n\n   eval_recall   eval_f1  eval_runtime  eval_samples_per_second  \\\n0     0.056968  0.037834       11.3318                  230.413   \n\n   eval_steps_per_second  \n0                 28.857  ",
            "text/html": "<div>\n<style scoped>\n    .dataframe tbody tr th:only-of-type {\n        vertical-align: middle;\n    }\n\n    .dataframe tbody tr th {\n        vertical-align: top;\n    }\n\n    .dataframe thead th {\n        text-align: right;\n    }\n</style>\n<table border=\"1\" class=\"dataframe\">\n  <thead>\n    <tr style=\"text-align: right;\">\n      <th></th>\n      <th>eval_loss</th>\n      <th>eval_model_preparation_time</th>\n      <th>eval_accuracy</th>\n      <th>eval_precision</th>\n      <th>eval_recall</th>\n      <th>eval_f1</th>\n      <th>eval_runtime</th>\n      <th>eval_samples_per_second</th>\n      <th>eval_steps_per_second</th>\n    </tr>\n  </thead>\n  <tbody>\n    <tr>\n      <th>0</th>\n      <td>1.7717</td>\n      <td>0.0028</td>\n      <td>0.406198</td>\n      <td>0.028322</td>\n      <td>0.056968</td>\n      <td>0.037834</td>\n      <td>11.3318</td>\n      <td>230.413</td>\n      <td>28.857</td>\n    </tr>\n  </tbody>\n</table>\n</div>"
          },
          "metadata": {}
        }
      ],
      "execution_count": null
    },
    {
      "cell_type": "code",
      "source": [
        "import logging\n",
        "from transformers import EarlyStoppingCallback, TrainingArguments, Trainer, AutoTokenizer, AutoModelForTokenClassification, DataCollatorForTokenClassification\n",
        "from torch.optim import AdamW\n",
        "\n",
        "logging.getLogger(\"transformers.modeling_utils\").setLevel(logging.ERROR)  # Suppress warnings\n",
        "\n",
        "# Define data collator\n",
        "data_collator = DataCollatorForTokenClassification(tokenizer=tokenizer)\n",
        "\n",
        "from torch.optim import AdamW\n",
        "\n",
        "def get_optimizer(model):\n",
        "    base_lr = 2e-5  # Base learning rate\n",
        "    layerwise_decay = 0.9  # Decay factor\n",
        "\n",
        "    optimizer_grouped_parameters = []\n",
        "    # Apply LLRD on BERT encoder layers\n",
        "    for i, layer in enumerate(model.bert.encoder.layer):\n",
        "        layer_lr = base_lr * (layerwise_decay ** (len(model.bert.encoder.layer) - i - 1))\n",
        "        optimizer_grouped_parameters.append({\"params\": layer.parameters(), \"lr\": layer_lr})\n",
        "\n",
        "    # Apply base learning rate for classifier head\n",
        "    optimizer_grouped_parameters.append({\"params\": model.classifier.parameters(), \"lr\": base_lr})\n",
        "\n",
        "    # Initialize AdamW optimizer with weight decay\n",
        "    return AdamW(optimizer_grouped_parameters, lr=base_lr, weight_decay=0.01)\n",
        "\n",
        "# Training arguments\n",
        "training_args = TrainingArguments(\n",
        "    output_dir=\"./results\",\n",
        "    eval_strategy=\"epoch\",\n",
        "    save_strategy=\"no\",\n",
        "    learning_rate=2e-5,\n",
        "    per_device_train_batch_size=8,\n",
        "    per_device_eval_batch_size=8,\n",
        "    num_train_epochs=10,\n",
        "    weight_decay=0.01,\n",
        "    report_to=\"none\",\n",
        ")\n",
        "\n",
        "# Trainer setup with custom optimizer and LLRD\n",
        "trainer = Trainer(\n",
        "    model=model,\n",
        "    args=training_args,\n",
        "    train_dataset=train_dataset,\n",
        "    eval_dataset=validation_dataset,\n",
        "    tokenizer=tokenizer,\n",
        "    data_collator=data_collator,\n",
        "    compute_metrics=compute_metrics,\n",
        "    optimizers=(get_optimizer(model), None)  # Custom optimizer with LLRD\n",
        "\n",
        ")\n",
        "\n",
        "trainer.train()\n",
        "\n",
        "# Run evaluation on test dataset and display metrics as DataFrame\n",
        "import pandas as pd\n",
        "\n",
        "metrics = trainer.evaluate(test_dataset)\n",
        "metrics_df = pd.DataFrame([metrics])\n",
        "metrics_df\n"
      ],
      "metadata": {
        "execution": {
          "iopub.status.busy": "2025-05-18T16:38:36.722663Z",
          "iopub.execute_input": "2025-05-18T16:38:36.723255Z",
          "iopub.status.idle": "2025-05-18T17:34:30.900040Z",
          "shell.execute_reply.started": "2025-05-18T16:38:36.723225Z",
          "shell.execute_reply": "2025-05-18T17:34:30.899502Z"
        },
        "trusted": true,
        "id": "tisbVd5Mefvf",
        "outputId": "24ee0b96-9b61-4e6a-c47b-709e61d3d6b4"
      },
      "outputs": [
        {
          "name": "stderr",
          "text": "/tmp/ipykernel_35/1331705154.py:42: FutureWarning: `tokenizer` is deprecated and will be removed in version 5.0.0 for `Trainer.__init__`. Use `processing_class` instead.\n  trainer = Trainer(\n",
          "output_type": "stream"
        },
        {
          "output_type": "display_data",
          "data": {
            "text/plain": "<IPython.core.display.HTML object>",
            "text/html": "\n    <div>\n      \n      <progress value='25590' max='25590' style='width:300px; height:20px; vertical-align: middle;'></progress>\n      [25590/25590 55:41, Epoch 10/10]\n    </div>\n    <table border=\"1\" class=\"dataframe\">\n  <thead>\n <tr style=\"text-align: left;\">\n      <th>Epoch</th>\n      <th>Training Loss</th>\n      <th>Validation Loss</th>\n      <th>Accuracy</th>\n      <th>Precision</th>\n      <th>Recall</th>\n      <th>F1</th>\n    </tr>\n  </thead>\n  <tbody>\n    <tr>\n      <td>1</td>\n      <td>0.160000</td>\n      <td>0.168248</td>\n      <td>0.954365</td>\n      <td>0.842600</td>\n      <td>0.862361</td>\n      <td>0.852366</td>\n    </tr>\n    <tr>\n      <td>2</td>\n      <td>0.109000</td>\n      <td>0.177173</td>\n      <td>0.956247</td>\n      <td>0.844209</td>\n      <td>0.868768</td>\n      <td>0.856313</td>\n    </tr>\n    <tr>\n      <td>3</td>\n      <td>0.078300</td>\n      <td>0.164849</td>\n      <td>0.961628</td>\n      <td>0.868352</td>\n      <td>0.889273</td>\n      <td>0.878688</td>\n    </tr>\n    <tr>\n      <td>4</td>\n      <td>0.061800</td>\n      <td>0.213645</td>\n      <td>0.959635</td>\n      <td>0.871391</td>\n      <td>0.893502</td>\n      <td>0.882308</td>\n    </tr>\n    <tr>\n      <td>5</td>\n      <td>0.046700</td>\n      <td>0.203141</td>\n      <td>0.962403</td>\n      <td>0.866235</td>\n      <td>0.891324</td>\n      <td>0.878600</td>\n    </tr>\n    <tr>\n      <td>6</td>\n      <td>0.029400</td>\n      <td>0.216550</td>\n      <td>0.961584</td>\n      <td>0.858935</td>\n      <td>0.895040</td>\n      <td>0.876616</td>\n    </tr>\n    <tr>\n      <td>7</td>\n      <td>0.020100</td>\n      <td>0.229465</td>\n      <td>0.962868</td>\n      <td>0.872730</td>\n      <td>0.899013</td>\n      <td>0.885676</td>\n    </tr>\n    <tr>\n      <td>8</td>\n      <td>0.016700</td>\n      <td>0.252018</td>\n      <td>0.961495</td>\n      <td>0.867063</td>\n      <td>0.897732</td>\n      <td>0.882131</td>\n    </tr>\n    <tr>\n      <td>9</td>\n      <td>0.014900</td>\n      <td>0.253269</td>\n      <td>0.963399</td>\n      <td>0.878128</td>\n      <td>0.899398</td>\n      <td>0.888636</td>\n    </tr>\n    <tr>\n      <td>10</td>\n      <td>0.010000</td>\n      <td>0.259859</td>\n      <td>0.962669</td>\n      <td>0.872883</td>\n      <td>0.898501</td>\n      <td>0.885507</td>\n    </tr>\n  </tbody>\n</table><p>"
          },
          "metadata": {}
        },
        {
          "output_type": "display_data",
          "data": {
            "text/plain": "<IPython.core.display.HTML object>",
            "text/html": "\n    <div>\n      \n      <progress value='327' max='327' style='width:300px; height:20px; vertical-align: middle;'></progress>\n      [327/327 00:10]\n    </div>\n    "
          },
          "metadata": {}
        },
        {
          "execution_count": 14,
          "output_type": "execute_result",
          "data": {
            "text/plain": "   eval_loss  eval_accuracy  eval_precision  eval_recall   eval_f1  \\\n0   0.483052       0.946474        0.855407     0.870744  0.863008   \n\n   eval_runtime  eval_samples_per_second  eval_steps_per_second  epoch  \n0       11.2802                  231.468                 28.989   10.0  ",
            "text/html": "<div>\n<style scoped>\n    .dataframe tbody tr th:only-of-type {\n        vertical-align: middle;\n    }\n\n    .dataframe tbody tr th {\n        vertical-align: top;\n    }\n\n    .dataframe thead th {\n        text-align: right;\n    }\n</style>\n<table border=\"1\" class=\"dataframe\">\n  <thead>\n    <tr style=\"text-align: right;\">\n      <th></th>\n      <th>eval_loss</th>\n      <th>eval_accuracy</th>\n      <th>eval_precision</th>\n      <th>eval_recall</th>\n      <th>eval_f1</th>\n      <th>eval_runtime</th>\n      <th>eval_samples_per_second</th>\n      <th>eval_steps_per_second</th>\n      <th>epoch</th>\n    </tr>\n  </thead>\n  <tbody>\n    <tr>\n      <th>0</th>\n      <td>0.483052</td>\n      <td>0.946474</td>\n      <td>0.855407</td>\n      <td>0.870744</td>\n      <td>0.863008</td>\n      <td>11.2802</td>\n      <td>231.468</td>\n      <td>28.989</td>\n      <td>10.0</td>\n    </tr>\n  </tbody>\n</table>\n</div>"
          },
          "metadata": {}
        }
      ],
      "execution_count": null
    },
    {
      "cell_type": "code",
      "source": [
        "# Inspect the log history to understand the structure of logs\n",
        "for log in trainer.state.log_history:\n",
        "    print(log)\n"
      ],
      "metadata": {
        "execution": {
          "iopub.status.busy": "2025-05-18T17:36:09.031065Z",
          "iopub.execute_input": "2025-05-18T17:36:09.031869Z",
          "iopub.status.idle": "2025-05-18T17:36:09.036715Z",
          "shell.execute_reply.started": "2025-05-18T17:36:09.031844Z",
          "shell.execute_reply": "2025-05-18T17:36:09.035926Z"
        },
        "trusted": true,
        "id": "A2vQ60Aoefvg",
        "outputId": "660a6d69-82a0-4b25-a604-846a48aa63a0"
      },
      "outputs": [
        {
          "name": "stdout",
          "text": "{'loss': 0.3588, 'grad_norm': 6.289400577545166, 'learning_rate': 6.153827015626567e-06, 'epoch': 0.19538882375928096, 'step': 500}\n{'loss': 0.2099, 'grad_norm': 3.8713831901550293, 'learning_rate': 6.031196849120119e-06, 'epoch': 0.3907776475185619, 'step': 1000}\n{'loss': 0.1935, 'grad_norm': 7.171793460845947, 'learning_rate': 5.908566682613671e-06, 'epoch': 0.5861664712778429, 'step': 1500}\n{'loss': 0.1688, 'grad_norm': 2.5934250354766846, 'learning_rate': 5.785936516107223e-06, 'epoch': 0.7815552950371238, 'step': 2000}\n{'loss': 0.16, 'grad_norm': 5.48209810256958, 'learning_rate': 5.663306349600776e-06, 'epoch': 0.9769441187964049, 'step': 2500}\n{'eval_loss': 0.16824808716773987, 'eval_accuracy': 0.9543652990279654, 'eval_precision': 0.8425995492111195, 'eval_recall': 0.8623606305267205, 'eval_f1': 0.852365570967129, 'eval_runtime': 11.2792, 'eval_samples_per_second': 229.272, 'eval_steps_per_second': 28.725, 'epoch': 1.0, 'step': 2559}\n{'loss': 0.1281, 'grad_norm': 7.636226177215576, 'learning_rate': 5.540676183094328e-06, 'epoch': 1.1723329425556859, 'step': 3000}\n{'loss': 0.1202, 'grad_norm': 0.5439469218254089, 'learning_rate': 5.41804601658788e-06, 'epoch': 1.3677217663149668, 'step': 3500}\n{'loss': 0.115, 'grad_norm': 1.4322553873062134, 'learning_rate': 5.295415850081432e-06, 'epoch': 1.5631105900742477, 'step': 4000}\n{'loss': 0.1203, 'grad_norm': 5.8774847984313965, 'learning_rate': 5.172785683574984e-06, 'epoch': 1.7584994138335288, 'step': 4500}\n{'loss': 0.109, 'grad_norm': 2.3630828857421875, 'learning_rate': 5.050155517068536e-06, 'epoch': 1.9538882375928097, 'step': 5000}\n{'eval_loss': 0.1771731823682785, 'eval_accuracy': 0.9562473706352546, 'eval_precision': 0.8442092154420922, 'eval_recall': 0.8687684224016404, 'eval_f1': 0.8563127644792522, 'eval_runtime': 11.212, 'eval_samples_per_second': 230.645, 'eval_steps_per_second': 28.897, 'epoch': 2.0, 'step': 5118}\n{'loss': 0.0834, 'grad_norm': 8.469762802124023, 'learning_rate': 4.927525350562088e-06, 'epoch': 2.1492770613520906, 'step': 5500}\n{'loss': 0.0869, 'grad_norm': 0.9906868934631348, 'learning_rate': 4.804895184055641e-06, 'epoch': 2.3446658851113718, 'step': 6000}\n{'loss': 0.0803, 'grad_norm': 4.562009334564209, 'learning_rate': 4.682265017549193e-06, 'epoch': 2.5400547088706524, 'step': 6500}\n{'loss': 0.0837, 'grad_norm': 1.7379299402236938, 'learning_rate': 4.5596348510427445e-06, 'epoch': 2.7354435326299336, 'step': 7000}\n{'loss': 0.0783, 'grad_norm': 1.8282315731048584, 'learning_rate': 4.437004684536297e-06, 'epoch': 2.9308323563892147, 'step': 7500}\n{'eval_loss': 0.1648494303226471, 'eval_accuracy': 0.9616278812302106, 'eval_precision': 0.8683518958828682, 'eval_recall': 0.889273356401384, 'eval_f1': 0.8786881094086362, 'eval_runtime': 11.2215, 'eval_samples_per_second': 230.451, 'eval_steps_per_second': 28.873, 'epoch': 3.0, 'step': 7677}\n{'loss': 0.0673, 'grad_norm': 11.333257675170898, 'learning_rate': 4.314374518029849e-06, 'epoch': 3.1262211801484954, 'step': 8000}\n{'loss': 0.0568, 'grad_norm': 1.9291174411773682, 'learning_rate': 4.191744351523401e-06, 'epoch': 3.3216100039077765, 'step': 8500}\n{'loss': 0.0591, 'grad_norm': 1.773004174232483, 'learning_rate': 4.069114185016953e-06, 'epoch': 3.5169988276670576, 'step': 9000}\n{'loss': 0.0565, 'grad_norm': 4.053439617156982, 'learning_rate': 3.9464840185105056e-06, 'epoch': 3.7123876514263383, 'step': 9500}\n{'loss': 0.0618, 'grad_norm': 0.9286865592002869, 'learning_rate': 3.823853852004058e-06, 'epoch': 3.9077764751856194, 'step': 10000}\n{'eval_loss': 0.21364466845989227, 'eval_accuracy': 0.959635099528375, 'eval_precision': 0.8713910761154856, 'eval_recall': 0.8935024990388312, 'eval_f1': 0.8823082763857251, 'eval_runtime': 11.3043, 'eval_samples_per_second': 228.763, 'eval_steps_per_second': 28.662, 'epoch': 4.0, 'step': 10236}\n{'loss': 0.0457, 'grad_norm': 3.8844223022460938, 'learning_rate': 3.7012236854976095e-06, 'epoch': 4.103165298944901, 'step': 10500}\n{'loss': 0.0409, 'grad_norm': 1.666846752166748, 'learning_rate': 3.578593518991162e-06, 'epoch': 4.298554122704181, 'step': 11000}\n{'loss': 0.0439, 'grad_norm': 0.07562825828790665, 'learning_rate': 3.455963352484714e-06, 'epoch': 4.493942946463462, 'step': 11500}\n{'loss': 0.0437, 'grad_norm': 0.2666749954223633, 'learning_rate': 3.3333331859782662e-06, 'epoch': 4.6893317702227435, 'step': 12000}\n{'loss': 0.0467, 'grad_norm': 7.4616169929504395, 'learning_rate': 3.2107030194718178e-06, 'epoch': 4.884720593982024, 'step': 12500}\n{'eval_loss': 0.20314079523086548, 'eval_accuracy': 0.9624028518920356, 'eval_precision': 0.866234898492963, 'eval_recall': 0.8913238498013585, 'eval_f1': 0.8786003031834259, 'eval_runtime': 11.2353, 'eval_samples_per_second': 230.168, 'eval_steps_per_second': 28.838, 'epoch': 5.0, 'step': 12795}\n{'loss': 0.0363, 'grad_norm': 3.4813427925109863, 'learning_rate': 3.08807285296537e-06, 'epoch': 5.080109417741305, 'step': 13000}\n{'loss': 0.0299, 'grad_norm': 0.4161115288734436, 'learning_rate': 2.9654426864589225e-06, 'epoch': 5.275498241500586, 'step': 13500}\n{'loss': 0.0244, 'grad_norm': 0.14101845026016235, 'learning_rate': 2.8428125199524745e-06, 'epoch': 5.470887065259867, 'step': 14000}\n{'loss': 0.0333, 'grad_norm': 2.768576145172119, 'learning_rate': 2.7201823534460264e-06, 'epoch': 5.666275889019148, 'step': 14500}\n{'loss': 0.0294, 'grad_norm': 0.1374502331018448, 'learning_rate': 2.597552186939579e-06, 'epoch': 5.861664712778429, 'step': 15000}\n{'eval_loss': 0.21654962003231049, 'eval_accuracy': 0.961583597192392, 'eval_precision': 0.8589349403517402, 'eval_recall': 0.895040369088812, 'eval_f1': 0.8766160411698255, 'eval_runtime': 11.23, 'eval_samples_per_second': 230.277, 'eval_steps_per_second': 28.851, 'epoch': 6.0, 'step': 15354}\n{'loss': 0.0301, 'grad_norm': 1.7332605123519897, 'learning_rate': 2.4749220204331308e-06, 'epoch': 6.05705353653771, 'step': 15500}\n{'loss': 0.0234, 'grad_norm': 2.579866409301758, 'learning_rate': 2.3522918539266827e-06, 'epoch': 6.252442360296991, 'step': 16000}\n{'loss': 0.0272, 'grad_norm': 5.0908355712890625, 'learning_rate': 2.229661687420235e-06, 'epoch': 6.447831184056272, 'step': 16500}\n{'loss': 0.0213, 'grad_norm': 1.4672222137451172, 'learning_rate': 2.1070315209137875e-06, 'epoch': 6.643220007815553, 'step': 17000}\n{'loss': 0.0201, 'grad_norm': 0.027669982984662056, 'learning_rate': 1.9844013544073395e-06, 'epoch': 6.838608831574834, 'step': 17500}\n{'eval_loss': 0.22946518659591675, 'eval_accuracy': 0.9628678342891305, 'eval_precision': 0.8727295347101269, 'eval_recall': 0.8990132000512623, 'eval_f1': 0.8856764093175936, 'eval_runtime': 11.2549, 'eval_samples_per_second': 229.766, 'eval_steps_per_second': 28.787, 'epoch': 7.0, 'step': 17913}\n{'loss': 0.0252, 'grad_norm': 22.203933715820312, 'learning_rate': 1.8617711879008916e-06, 'epoch': 7.033997655334115, 'step': 18000}\n{'loss': 0.0151, 'grad_norm': 2.4622395038604736, 'learning_rate': 1.7391410213944438e-06, 'epoch': 7.229386479093396, 'step': 18500}\n{'loss': 0.0177, 'grad_norm': 0.4683164358139038, 'learning_rate': 1.6165108548879958e-06, 'epoch': 7.424775302852677, 'step': 19000}\n{'loss': 0.0162, 'grad_norm': 5.581082820892334, 'learning_rate': 1.493880688381548e-06, 'epoch': 7.620164126611957, 'step': 19500}\n{'loss': 0.0167, 'grad_norm': 1.1450103521347046, 'learning_rate': 1.3712505218751001e-06, 'epoch': 7.815552950371239, 'step': 20000}\n{'eval_loss': 0.2520179748535156, 'eval_accuracy': 0.9614950291167549, 'eval_precision': 0.8670627552914965, 'eval_recall': 0.8977316416762784, 'eval_f1': 0.8821307140158671, 'eval_runtime': 11.2232, 'eval_samples_per_second': 230.416, 'eval_steps_per_second': 28.869, 'epoch': 8.0, 'step': 20472}\n{'loss': 0.0148, 'grad_norm': 0.0065660541877150536, 'learning_rate': 1.248620355368652e-06, 'epoch': 8.01094177413052, 'step': 20500}\n{'loss': 0.0141, 'grad_norm': 0.009085663594305515, 'learning_rate': 1.1259901888622045e-06, 'epoch': 8.206330597889801, 'step': 21000}\n{'loss': 0.0151, 'grad_norm': 8.714712142944336, 'learning_rate': 1.0033600223557564e-06, 'epoch': 8.401719421649082, 'step': 21500}\n{'loss': 0.0108, 'grad_norm': 1.4994840621948242, 'learning_rate': 8.807298558493086e-07, 'epoch': 8.597108245408362, 'step': 22000}\n{'loss': 0.0137, 'grad_norm': 0.11585882306098938, 'learning_rate': 7.580996893428608e-07, 'epoch': 8.792497069167643, 'step': 22500}\n{'loss': 0.0149, 'grad_norm': 0.4377902150154114, 'learning_rate': 6.354695228364129e-07, 'epoch': 8.987885892926924, 'step': 23000}\n{'eval_loss': 0.25326862931251526, 'eval_accuracy': 0.9633992427429533, 'eval_precision': 0.8781281281281281, 'eval_recall': 0.8993976675637575, 'eval_f1': 0.8886356441911998, 'eval_runtime': 11.2061, 'eval_samples_per_second': 230.766, 'eval_steps_per_second': 28.913, 'epoch': 9.0, 'step': 23031}\n{'loss': 0.0097, 'grad_norm': 0.0038214493542909622, 'learning_rate': 5.12839356329965e-07, 'epoch': 9.183274716686206, 'step': 23500}\n{'loss': 0.0114, 'grad_norm': 1.0143579244613647, 'learning_rate': 3.902091898235171e-07, 'epoch': 9.378663540445487, 'step': 24000}\n{'loss': 0.0113, 'grad_norm': 1.8956873416900635, 'learning_rate': 2.6757902331706923e-07, 'epoch': 9.574052364204768, 'step': 24500}\n{'loss': 0.0094, 'grad_norm': 0.08196583390235901, 'learning_rate': 1.4494885681062137e-07, 'epoch': 9.769441187964048, 'step': 25000}\n{'loss': 0.01, 'grad_norm': 0.01132136955857277, 'learning_rate': 2.2318690304173512e-08, 'epoch': 9.964830011723329, 'step': 25500}\n{'eval_loss': 0.25985851883888245, 'eval_accuracy': 0.962668556118947, 'eval_precision': 0.8728834661354582, 'eval_recall': 0.8985005767012687, 'eval_f1': 0.8855067887590781, 'eval_runtime': 11.2204, 'eval_samples_per_second': 230.473, 'eval_steps_per_second': 28.876, 'epoch': 10.0, 'step': 25590}\n{'train_runtime': 3342.3746, 'train_samples_per_second': 61.232, 'train_steps_per_second': 7.656, 'total_flos': 1.336985291119104e+16, 'train_loss': 0.06099400029092992, 'epoch': 10.0, 'step': 25590}\n{'eval_loss': 0.4830522835254669, 'eval_accuracy': 0.9464735359377727, 'eval_precision': 0.855406911928651, 'eval_recall': 0.870744439400817, 'eval_f1': 0.8630075357102689, 'eval_runtime': 11.2802, 'eval_samples_per_second': 231.468, 'eval_steps_per_second': 28.989, 'epoch': 10.0, 'step': 25590}\n",
          "output_type": "stream"
        }
      ],
      "execution_count": null
    },
    {
      "cell_type": "code",
      "source": [
        "import matplotlib.pyplot as plt\n",
        "\n",
        "# Define the epochs\n",
        "epochs = list(range(1, 11))\n",
        "\n",
        "# Define training and validation loss values\n",
        "train_loss = [0.552400, 0.391900, 0.323800, 0.257500, 0.202600, 0.173700, 0.141800, 0.112400, 0.086900, 0.081000]\n",
        "val_loss = [0.465566, 0.363911, 0.350118, 0.299650, 0.273477, 0.298329, 0.314682, 0.320620, 0.331047, 0.316977]\n",
        "\n",
        "# Plot the losses with similar styling\n",
        "plt.figure(figsize=(8,6))\n",
        "plt.plot(epochs, train_loss, 'bo-', label='Training Loss')  # Blue line with circles\n",
        "plt.plot(epochs, val_loss, 'ro-', label='Validation Loss')  # Red line with circles\n",
        "\n",
        "# Labels and title\n",
        "plt.xlabel('Epoch')\n",
        "plt.ylabel('Loss')\n",
        "plt.title('Model: Training and Validation Loss over Epochs')\n",
        "plt.legend()\n",
        "\n",
        "# Grid for better readability\n",
        "plt.grid(True, linestyle='--', alpha=0.6)\n",
        "\n",
        "# Show the plot\n",
        "plt.show()\n"
      ],
      "metadata": {
        "execution": {
          "iopub.status.busy": "2025-05-18T10:05:43.952923Z",
          "iopub.execute_input": "2025-05-18T10:05:43.953518Z",
          "iopub.status.idle": "2025-05-18T10:05:44.200660Z",
          "shell.execute_reply.started": "2025-05-18T10:05:43.953495Z",
          "shell.execute_reply": "2025-05-18T10:05:44.199865Z"
        },
        "trusted": true,
        "id": "GPrUkV8Iefvg",
        "outputId": "1270faba-83de-4921-a163-2c5fee4b992a"
      },
      "outputs": [
        {
          "output_type": "display_data",
          "data": {
            "text/plain": "<Figure size 800x600 with 1 Axes>",
            "image/png": "[encoded data removed]"
          },
          "metadata": {}
        }
      ],
      "execution_count": null
    },
    {
      "cell_type": "code",
      "source": [
        "def test_model(sentences):\n",
        "    # Set the model to evaluation mode\n",
        "    model.eval()\n",
        "\n",
        "    for sentence in sentences:\n",
        "        # Tokenize the input sentence\n",
        "        tokenized_input = tokenizer(sentence, truncation=True, padding=\"max_length\", max_length=128, return_tensors=\"pt\")\n",
        "\n",
        "        # Move input tensors to the appropriate device (CPU or GPU)\n",
        "        input_ids = tokenized_input[\"input_ids\"].to(model.device)  # Ensure input is on the correct device\n",
        "        attention_mask = tokenized_input[\"attention_mask\"].to(model.device)\n",
        "\n",
        "        # Make predictions using the model\n",
        "        with torch.no_grad():\n",
        "            outputs = model(input_ids, attention_mask=attention_mask)\n",
        "\n",
        "        # Get predictions and convert logits to labels\n",
        "        predictions = np.argmax(outputs.logits.cpu().numpy(), axis=2)  # Move logits to CPU if necessary\n",
        "\n",
        "        # Align tokens with predictions\n",
        "        tokens = tokenizer.convert_ids_to_tokens(input_ids[0].cpu().numpy())  # Ensure tokens are on CPU\n",
        "        predicted_labels = [label_list[p] for p in predictions[0]]\n",
        "\n",
        "        # Print the results\n",
        "        print(f\"\\nTesting sentence: {sentence}\")\n",
        "        for token, label in zip(tokens, predicted_labels):\n",
        "            if token not in tokenizer.special_tokens_map.values() and token.strip():  # Skip special tokens and empty tokens\n",
        "                print(f\"Word: '{token}', Predicted Label: {label}\")\n",
        "\n",
        "# Example sentences for testing\n",
        "test_sentences = [\n",
        "    \"என் பெயர் வின்ஸ்டன் சர்ச்சில் மற்றும் நான் கோயம்புத்தூரில் வருகிறேன்.\",\n",
        "    \"இது ஒரு புதிய தொழில்நுட்ப மேம்பாடு.\",\n",
        "    \"தமிழ் மொழி தமிழ்நாட்டின் நிலையான மொழியாகும்.\",\n",
        "    \"இத்தாவரம் சீனா, இந்தியா, ஜப்பான், பப்பாசியா, மைக்குரோனீசியா போன்ற நாடுகளில் காணப்படுகிறது.\",\n",
        "    \"சைஃப் அலி கான், தீபிகா படுகோண், ஜான் ஆபிரகாம் (நடிகர்), ஜாக்குலின் பெர்னாண்டஸ், அனில் கபூர், அமீஷா பட்டேல், மற்றும் ரஜினிகாந்த் ஆகியோர்.\"\n",
        "]\n",
        "\n",
        "# Test the model\n",
        "test_model(test_sentences)\n"
      ],
      "metadata": {
        "execution": {
          "iopub.status.busy": "2025-05-18T17:36:18.985381Z",
          "iopub.execute_input": "2025-05-18T17:36:18.985985Z",
          "iopub.status.idle": "2025-05-18T17:36:19.053560Z",
          "shell.execute_reply.started": "2025-05-18T17:36:18.985960Z",
          "shell.execute_reply": "2025-05-18T17:36:19.052849Z"
        },
        "trusted": true,
        "id": "3pc22Qrdefvg",
        "outputId": "e79749ce-78e2-4135-c24e-d1667da0662d"
      },
      "outputs": [
        {
          "name": "stdout",
          "text": "\nTesting sentence: என் பெயர் வின்ஸ்டன் சர்ச்சில் மற்றும் நான் கோயம்புத்தூரில் வருகிறேன்.\nWord: 'என்', Predicted Label: I-LOC\nWord: 'பெயர்', Predicted Label: I-LOC\nWord: 'வ', Predicted Label: I-PER\nWord: '##ின்', Predicted Label: I-PER\nWord: '##ஸ்', Predicted Label: I-PER\nWord: '##டன்', Predicted Label: I-PER\nWord: 'ச', Predicted Label: B-LOC\nWord: '##ர்', Predicted Label: I-LOC\nWord: '##ச்சி', Predicted Label: I-LOC\nWord: '##ல்', Predicted Label: I-LOC\nWord: 'மற்றும்', Predicted Label: I-LOC\nWord: 'ந', Predicted Label: I-LOC\nWord: '##ான்', Predicted Label: I-LOC\nWord: 'க', Predicted Label: B-PER\nWord: '##ோ', Predicted Label: I-ORG\nWord: '##யம்', Predicted Label: I-ORG\nWord: '##பு', Predicted Label: I-ORG\nWord: '##த்த', Predicted Label: I-ORG\nWord: '##ூரி', Predicted Label: I-ORG\nWord: '##ல்', Predicted Label: I-ORG\nWord: 'வ', Predicted Label: I-LOC\nWord: '##ரு', Predicted Label: I-LOC\nWord: '##கி', Predicted Label: I-LOC\nWord: '##ற', Predicted Label: I-LOC\nWord: '##ே', Predicted Label: I-LOC\nWord: '##ன்', Predicted Label: I-LOC\nWord: '.', Predicted Label: I-LOC\n\nTesting sentence: இது ஒரு புதிய தொழில்நுட்ப மேம்பாடு.\nWord: 'இது', Predicted Label: I-LOC\nWord: 'ஒரு', Predicted Label: I-LOC\nWord: 'புதிய', Predicted Label: I-LOC\nWord: 'த', Predicted Label: O\nWord: '##ொ', Predicted Label: I-LOC\nWord: '##ழில்', Predicted Label: I-LOC\nWord: '##ந', Predicted Label: I-LOC\nWord: '##ு', Predicted Label: I-LOC\nWord: '##ட்', Predicted Label: I-LOC\nWord: '##ப', Predicted Label: I-LOC\nWord: 'மே', Predicted Label: I-LOC\nWord: '##ம்', Predicted Label: I-LOC\nWord: '##பாடு', Predicted Label: I-LOC\nWord: '.', Predicted Label: I-LOC\n\nTesting sentence: தமிழ் மொழி தமிழ்நாட்டின் நிலையான மொழியாகும்.\nWord: 'தமிழ்', Predicted Label: B-PER\nWord: 'மொழி', Predicted Label: I-ORG\nWord: 'தமிழ்நாட்டின்', Predicted Label: O\nWord: 'நிலை', Predicted Label: I-LOC\nWord: '##யான', Predicted Label: I-LOC\nWord: 'மொழி', Predicted Label: I-LOC\nWord: '##யாகும்', Predicted Label: I-LOC\nWord: '.', Predicted Label: I-LOC\n\nTesting sentence: இத்தாவரம் சீனா, இந்தியா, ஜப்பான், பப்பாசியா, மைக்குரோனீசியா போன்ற நாடுகளில் காணப்படுகிறது.\nWord: 'இ', Predicted Label: I-LOC\nWord: '##த்த', Predicted Label: I-LOC\nWord: '##ா', Predicted Label: I-LOC\nWord: '##வ', Predicted Label: I-LOC\nWord: '##ரம்', Predicted Label: I-LOC\nWord: 'ச', Predicted Label: O\nWord: '##ீன', Predicted Label: O\nWord: '##ா', Predicted Label: I-LOC\nWord: ',', Predicted Label: I-LOC\nWord: 'இந்தியா', Predicted Label: O\nWord: ',', Predicted Label: I-LOC\nWord: 'ஜ', Predicted Label: O\nWord: '##ப்', Predicted Label: I-LOC\nWord: '##பான', Predicted Label: I-LOC\nWord: '##்', Predicted Label: I-LOC\nWord: ',', Predicted Label: I-LOC\nWord: 'ப', Predicted Label: O\nWord: '##ப்', Predicted Label: I-LOC\nWord: '##பா', Predicted Label: I-LOC\nWord: '##சிய', Predicted Label: I-LOC\nWord: '##ா', Predicted Label: I-LOC\nWord: ',', Predicted Label: I-LOC\nWord: 'ம', Predicted Label: O\nWord: '##ை', Predicted Label: I-LOC\nWord: '##க்கு', Predicted Label: I-LOC\nWord: '##ர', Predicted Label: I-LOC\nWord: '##ோ', Predicted Label: I-LOC\nWord: '##ன', Predicted Label: I-LOC\nWord: '##ீ', Predicted Label: I-LOC\nWord: '##சிய', Predicted Label: I-LOC\nWord: '##ா', Predicted Label: I-LOC\nWord: 'போன்ற', Predicted Label: I-LOC\nWord: 'ந', Predicted Label: I-LOC\nWord: '##ாடுகளில்', Predicted Label: I-LOC\nWord: 'க', Predicted Label: I-LOC\nWord: '##ா', Predicted Label: I-LOC\nWord: '##ண', Predicted Label: I-LOC\nWord: '##ப்படுகிறது', Predicted Label: I-LOC\nWord: '.', Predicted Label: I-LOC\n\nTesting sentence: சைஃப் அலி கான், தீபிகா படுகோண், ஜான் ஆபிரகாம் (நடிகர்), ஜாக்குலின் பெர்னாண்டஸ், அனில் கபூர், அமீஷா பட்டேல், மற்றும் ரஜினிகாந்த் ஆகியோர்.\nWord: 'ச', Predicted Label: I-PER\nWord: '##ை', Predicted Label: I-PER\nWord: '##ஃப்', Predicted Label: I-PER\nWord: 'அ', Predicted Label: B-LOC\nWord: '##லி', Predicted Label: I-ORG\nWord: 'க', Predicted Label: B-LOC\nWord: '##ான்', Predicted Label: I-LOC\nWord: ',', Predicted Label: I-LOC\nWord: 'த', Predicted Label: I-PER\nWord: '##ீ', Predicted Label: I-PER\nWord: '##பி', Predicted Label: I-PER\nWord: '##கா', Predicted Label: I-PER\nWord: 'ப', Predicted Label: B-LOC\nWord: '##டு', Predicted Label: I-LOC\nWord: '##க', Predicted Label: B-LOC\nWord: '##ோ', Predicted Label: I-LOC\nWord: '##ண்', Predicted Label: I-LOC\nWord: ',', Predicted Label: I-LOC\nWord: 'ஜ', Predicted Label: I-PER\nWord: '##ான்', Predicted Label: I-PER\nWord: 'ஆ', Predicted Label: B-LOC\nWord: '##பி', Predicted Label: I-LOC\nWord: '##ர', Predicted Label: I-LOC\nWord: '##கா', Predicted Label: I-LOC\nWord: '##ம்', Predicted Label: I-LOC\nWord: '(', Predicted Label: B-LOC\nWord: 'ந', Predicted Label: B-LOC\nWord: '##டி', Predicted Label: B-LOC\nWord: '##கர்', Predicted Label: B-LOC\nWord: ')', Predicted Label: B-LOC\nWord: ',', Predicted Label: I-LOC\nWord: 'ஜ', Predicted Label: I-PER\nWord: '##ாக', Predicted Label: I-PER\nWord: '##்க', Predicted Label: I-PER\nWord: '##ு', Predicted Label: I-PER\nWord: '##லின்', Predicted Label: I-PER\nWord: 'ப', Predicted Label: B-LOC\nWord: '##ெ', Predicted Label: I-LOC\nWord: '##ர்', Predicted Label: I-LOC\nWord: '##ன', Predicted Label: I-LOC\nWord: '##ா', Predicted Label: I-LOC\nWord: '##ண்ட', Predicted Label: I-LOC\nWord: '##ஸ்', Predicted Label: I-LOC\nWord: ',', Predicted Label: I-LOC\nWord: 'அ', Predicted Label: I-PER\nWord: '##னில்', Predicted Label: I-PER\nWord: 'க', Predicted Label: B-LOC\nWord: '##பூர்', Predicted Label: I-ORG\nWord: ',', Predicted Label: I-LOC\nWord: 'அ', Predicted Label: I-PER\nWord: '##ம', Predicted Label: I-PER\nWord: '##ீ', Predicted Label: I-PER\nWord: '##ஷ', Predicted Label: I-PER\nWord: '##ா', Predicted Label: I-PER\nWord: 'ப', Predicted Label: B-LOC\nWord: '##ட்ட', Predicted Label: I-LOC\nWord: '##ே', Predicted Label: I-LOC\nWord: '##ல்', Predicted Label: I-LOC\nWord: ',', Predicted Label: I-LOC\nWord: 'மற்றும்', Predicted Label: I-LOC\nWord: 'ர', Predicted Label: I-PER\nWord: '##ஜ', Predicted Label: I-PER\nWord: '##ி', Predicted Label: I-PER\nWord: '##னி', Predicted Label: I-PER\nWord: '##கா', Predicted Label: I-PER\nWord: '##ந்த', Predicted Label: I-PER\nWord: '##்', Predicted Label: I-PER\nWord: 'ஆகிய', Predicted Label: I-LOC\nWord: '##ோர்', Predicted Label: I-LOC\nWord: '.', Predicted Label: I-LOC\n",
          "output_type": "stream"
        }
      ],
      "execution_count": null
    },
    {
      "cell_type": "code",
      "source": [],
      "metadata": {
        "trusted": true,
        "id": "HTiZdtI7efvh"
      },
      "outputs": [],
      "execution_count": null
    }
  ]
}